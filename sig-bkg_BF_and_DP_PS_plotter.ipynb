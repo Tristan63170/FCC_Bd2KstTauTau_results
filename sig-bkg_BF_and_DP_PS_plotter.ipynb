{
 "cells": [
  {
   "cell_type": "code",
   "execution_count": 1,
   "metadata": {},
   "outputs": [],
   "source": [
    "import numpy as np\n",
    "import pandas as pd\n",
    "import matplotlib.pyplot as plt\n",
    "from scipy.integrate import quad\n",
    "from scipy.integrate import dblquad, nquad\n",
    "from matplotlib import rc\n",
    "rc('font',**{'family':'serif','serif':['Roman']})\n",
    "rc('text', usetex=True)\n",
    "pd.options.display.max_colwidth = 100\n",
    "\n",
    "parameters = {'axes.labelsize': 25,\n",
    "          'axes.titlesize': 30, 'xtick.labelsize':20,'ytick.labelsize':20, 'figure.titlesize':23, 'legend.fontsize':20 }\n",
    "plt.rcParams.update(parameters)"
   ]
  },
  {
   "cell_type": "code",
   "execution_count": 2,
   "metadata": {},
   "outputs": [],
   "source": [
    "N_Z_FCCee=6e12\n",
    "\n",
    "fd=0.407\n",
    "fd_err=0.007\n",
    "\n",
    "fs=0.101\n",
    "fs_err=0.008\n",
    "\n",
    "BF_Z2bb=0.1512\n",
    "BF_Z2bb_err=0.0005\n",
    "\n",
    "BF_Bd2KstTauTau=1.3e-7\n",
    "BF_Bd2KstTauTau_err=BF_Bd2KstTauTau*0.1\n",
    "\n",
    "BF_Tau23PiNu=0.0931\n",
    "BF_Tau23PiNu_err=0.0005\n",
    "\n",
    "BF_Kstar2KPi=0.69# Kstar2KPi=0.7 KPi +0.3 K0SPi0\n",
    "\n",
    "# BF_Bd2KstarDsDs=2.78e-4\n",
    "# BF_Bd2KstarDsDs_err=0.51e-4\n",
    "\n",
    "\n",
    "# BF_Bd2KstarDsstarDs=8.78e-4\n",
    "# BF_Bd2KstarDsstarDs_err=2.41e-4\n",
    "\n",
    "# BF_Bd2KstarDsstarDsstar=9.10e-4\n",
    "# BF_Bd2KstarDsstarDsstar_err=2.60e-4\n",
    "\n",
    "BF_Bd2KstarDsDs=5.47e-5\n",
    "BF_Bd2KstarDsDs_err=1.92e-5\n",
    "\n",
    "BF_Bd2KstarDsstarDs=1.73e-4\n",
    "BF_Bd2KstarDsstarDs_err=0.70e-4\n",
    "\n",
    "BF_Bd2KstarDsstarDsstar=1.79e-4\n",
    "BF_Bd2KstarDsstarDsstar_err=0.72e-4\n",
    "\n",
    "BF_Ds2TauNu=0.0532\n",
    "BF_Ds2TauNu_err=0.0011\n",
    "\n",
    "BF_Ds23PiPi0=5.58e-3\n",
    "BF_Ds23PiPi0_err=0.34e-3\n",
    "\n",
    "BF_Ds23Pi2Pi0=4.68e-2\n",
    "BF_Ds23Pi2Pi0_err=0.64e-2\n",
    "\n",
    "BF_Dsstar2Ds_Pi0_or_Gamma=0.993\n",
    "BF_Dsstar2Ds_Pi0_or_Gamma_err=0.010\n",
    "\n",
    "\n",
    "BF_Bs2KstarDTauNu=0.727e-4\n",
    "BF_Bs2KstarDTauNu_err=0.192e-4\n",
    "\n",
    "BF_Bs2KstarDstarTauNu=1.61e-4\n",
    "BF_Bs2KstarDstarTauNu_err=0.42e-4\n",
    "\n",
    "BF_D23PiPi0=1.16e-2\n",
    "BF_D23PiPi0_err=0.08e-2\n",
    "\n",
    "BF_Dstar2D0Pi=67.7e-2\n",
    "BF_Dstar2D0Pi_err=0.5e-2\n",
    "\n",
    "BF_Dstar2DPi0=30.7e-2\n",
    "BF_Dstar2DPi0_err=0.5e-2\n",
    "\n",
    "BF_D024PiPi0=4.2e-3\n",
    "BF_D024PiPi0_err=0.5e-3\n",
    "\n",
    "BF_Bd2KstarDsTauNu=0.917e-5\n",
    "BF_Bd2KstarDsTauNu_err=0.155e-5\n",
    "\n",
    "BF_Bd2KstarDsstarTauNu=2.03e-5\n",
    "BF_Bd2KstarDsstarTauNu_err=0.34e-5\n"
   ]
  },
  {
   "cell_type": "code",
   "execution_count": 3,
   "metadata": {},
   "outputs": [
    {
     "name": "stdout",
     "output_type": "stream",
     "text": [
      "7.511330280662208e-09\n"
     ]
    }
   ],
   "source": [
    "BF_Bd2KstarTauTau=BF_Z2bb*2*fd*BF_Bd2KstTauTau*(BF_Tau23PiNu**2)*BF_Kstar2KPi\n",
    "BF_Bd2KstarTauTau_err=BF_Bd2KstarTauTau*((BF_Z2bb_err/BF_Z2bb)**2+(fd_err/fd)**2+(BF_Bd2KstTauTau_err/BF_Bd2KstTauTau)**2+2*(BF_Tau23PiNu_err/BF_Tau23PiNu)**2)**0.5\n",
    "\n",
    "BF_Bd2KstarDsDs_Ds2TauNu=BF_Z2bb*2*fd*BF_Bd2KstarDsDs*(BF_Ds2TauNu**2)*(BF_Tau23PiNu**2)*BF_Kstar2KPi\n",
    "BF_Bd2KstarDsDs_Ds2TauNu_err=BF_Bd2KstarDsDs_Ds2TauNu*((BF_Z2bb_err/BF_Z2bb)**2+(fd_err/fd)**2+(BF_Bd2KstarDsDs_err/BF_Bd2KstarDsDs)**2+2*(BF_Ds2TauNu_err/BF_Ds2TauNu)**2+2*(BF_Tau23PiNu_err/BF_Tau23PiNu)**2)**0.5\n",
    "BF_Bd2KstarDsDs_Ds23PiPi0=BF_Z2bb*2*fd*BF_Bd2KstarDsDs*(BF_Ds23PiPi0**2)*BF_Kstar2KPi\n",
    "BF_Bd2KstarDsDs_Ds23PiPi0_err=BF_Bd2KstarDsDs_Ds23PiPi0*((BF_Z2bb_err/BF_Z2bb)**2+(fd_err/fd)**2+(BF_Bd2KstarDsDs_err/BF_Bd2KstarDsDs)**2+2*(BF_Ds23PiPi0_err/BF_Ds23PiPi0)**2)**0.5\n",
    "BF_Bd2KstarDsDs_Ds23Pi2Pi0=BF_Z2bb*2*fd*BF_Bd2KstarDsDs*(BF_Ds23Pi2Pi0**2)*BF_Kstar2KPi\n",
    "BF_Bd2KstarDsDs_Ds23Pi2Pi0_err=BF_Bd2KstarDsDs_Ds23Pi2Pi0*((BF_Z2bb_err/BF_Z2bb)**2+(fd_err/fd)**2+(BF_Bd2KstarDsDs_err/BF_Bd2KstarDsDs)**2+2*(BF_Ds23Pi2Pi0_err/BF_Ds23Pi2Pi0)**2)**0.5\n",
    "BF_Bd2KstarDsDs_Ds2TauNu_Ds23PiPi0=BF_Z2bb*2*fd*BF_Bd2KstarDsDs*(BF_Ds2TauNu)*(BF_Tau23PiNu)*BF_Ds23PiPi0*BF_Kstar2KPi\n",
    "BF_Bd2KstarDsDs_Ds2TauNu_Ds23PiPi0_err=BF_Bd2KstarDsDs_Ds2TauNu_Ds23PiPi0*((BF_Z2bb_err/BF_Z2bb)**2+(fd_err/fd)**2+(BF_Bd2KstarDsDs_err/BF_Bd2KstarDsDs)**2+(BF_Ds2TauNu_err/BF_Ds2TauNu)**2+(BF_Tau23PiNu_err/BF_Tau23PiNu)**2+(BF_Ds23PiPi0_err/BF_Ds23PiPi0)**2)**0.5\n",
    "BF_Bd2KstarDsDs_Ds2TauNu_Ds23Pi2Pi0=BF_Z2bb*2*fd*BF_Bd2KstarDsDs*(BF_Ds2TauNu)*(BF_Tau23PiNu)*BF_Ds23Pi2Pi0*BF_Kstar2KPi\n",
    "BF_Bd2KstarDsDs_Ds2TauNu_Ds23Pi2Pi0_err=BF_Bd2KstarDsDs_Ds2TauNu_Ds23Pi2Pi0*((BF_Z2bb_err/BF_Z2bb)**2+(fd_err/fd)**2+(BF_Bd2KstarDsDs_err/BF_Bd2KstarDsDs)**2+(BF_Ds2TauNu_err/BF_Ds2TauNu)**2+(BF_Tau23PiNu_err/BF_Tau23PiNu)**2+(BF_Ds23Pi2Pi0_err/BF_Ds23Pi2Pi0)**2)**0.5\n",
    "BF_Bd2KstarDsDs_Ds23PiPi0_Ds23Pi2Pi0=BF_Z2bb*2*fd*BF_Bd2KstarDsDs*BF_Ds23PiPi0*BF_Ds23Pi2Pi0*BF_Kstar2KPi\n",
    "BF_Bd2KstarDsDs_Ds23PiPi0_Ds23Pi2Pi0_err=BF_Bd2KstarDsDs_Ds23PiPi0_Ds23Pi2Pi0*((BF_Z2bb_err/BF_Z2bb)**2+(fd_err/fd)**2+(BF_Bd2KstarDsDs_err/BF_Bd2KstarDsDs)**2+(BF_Ds23PiPi0_err/BF_Ds23PiPi0)**2+(BF_Ds23Pi2Pi0_err/BF_Ds23Pi2Pi0)**2)**0.5\n",
    "\n",
    "BF_Bd2KstarDsstarDs_Ds2TauNu=BF_Z2bb*2*fd*BF_Bd2KstarDsstarDs*(BF_Ds2TauNu**2)*(BF_Tau23PiNu**2)*BF_Kstar2KPi\n",
    "BF_Bd2KstarDsstarDs_Ds2TauNu_err=BF_Bd2KstarDsstarDs_Ds2TauNu*((BF_Z2bb_err/BF_Z2bb)**2+(fd_err/fd)**2+(BF_Bd2KstarDsstarDs_err/BF_Bd2KstarDsstarDs)**2+2*(BF_Ds2TauNu_err/BF_Ds2TauNu)**2+2*(BF_Tau23PiNu_err/BF_Tau23PiNu)**2)**0.5\n",
    "BF_Bd2KstarDsstarDs_Ds23PiPi0=BF_Z2bb*2*fd*BF_Bd2KstarDsstarDs*(BF_Ds23PiPi0**2)*BF_Kstar2KPi\n",
    "BF_Bd2KstarDsstarDs_Ds23PiPi0_err=BF_Bd2KstarDsstarDs_Ds23PiPi0*((BF_Z2bb_err/BF_Z2bb)**2+(fd_err/fd)**2+(BF_Bd2KstarDsstarDs_err/BF_Bd2KstarDsstarDs)**2+2*(BF_Ds23PiPi0_err/BF_Ds23PiPi0)**2)**0.5\n",
    "BF_Bd2KstarDsstarDs_Ds23Pi2Pi0=BF_Z2bb*2*fd*BF_Bd2KstarDsstarDs*(BF_Ds23Pi2Pi0**2)*BF_Kstar2KPi\n",
    "BF_Bd2KstarDsstarDs_Ds23Pi2Pi0_err=BF_Bd2KstarDsstarDs_Ds23Pi2Pi0*((BF_Z2bb_err/BF_Z2bb)**2+(fd_err/fd)**2+(BF_Bd2KstarDsstarDs_err/BF_Bd2KstarDsstarDs)**2+2*(BF_Ds23Pi2Pi0_err/BF_Ds23Pi2Pi0)**2)**0.5\n",
    "BF_Bd2KstarDsstarDs_Ds2TauNu_Ds23PiPi0=BF_Z2bb*2*fd*BF_Bd2KstarDsstarDs*(BF_Ds2TauNu)*(BF_Tau23PiNu)*BF_Ds23PiPi0*BF_Kstar2KPi\n",
    "BF_Bd2KstarDsstarDs_Ds2TauNu_Ds23PiPi0_err=BF_Bd2KstarDsstarDs_Ds2TauNu_Ds23PiPi0*((BF_Z2bb_err/BF_Z2bb)**2+(fd_err/fd)**2+(BF_Bd2KstarDsstarDs_err/BF_Bd2KstarDsstarDs)**2+(BF_Ds2TauNu_err/BF_Ds2TauNu)**2+(BF_Tau23PiNu_err/BF_Tau23PiNu)**2+(BF_Ds23PiPi0_err/BF_Ds23PiPi0)**2)**0.5\n",
    "BF_Bd2KstarDsstarDs_Ds2TauNu_Ds23Pi2Pi0=BF_Z2bb*2*fd*BF_Bd2KstarDsstarDs*(BF_Ds2TauNu)*(BF_Tau23PiNu)*BF_Ds23Pi2Pi0*BF_Kstar2KPi\n",
    "BF_Bd2KstarDsstarDs_Ds2TauNu_Ds23Pi2Pi0_err=BF_Bd2KstarDsstarDs_Ds2TauNu_Ds23Pi2Pi0*((BF_Z2bb_err/BF_Z2bb)**2+(fd_err/fd)**2+(BF_Bd2KstarDsstarDs_err/BF_Bd2KstarDsstarDs)**2+(BF_Ds2TauNu_err/BF_Ds2TauNu)**2+(BF_Tau23PiNu_err/BF_Tau23PiNu)**2+(BF_Ds23Pi2Pi0_err/BF_Ds23Pi2Pi0)**2)**0.5\n",
    "BF_Bd2KstarDsstarDs_Ds23PiPi0_Ds23Pi2Pi0=BF_Z2bb*2*fd*BF_Bd2KstarDsstarDs*BF_Ds23PiPi0*BF_Ds23Pi2Pi0*BF_Kstar2KPi\n",
    "BF_Bd2KstarDsstarDs_Ds23PiPi0_Ds23Pi2Pi0_err=BF_Bd2KstarDsstarDs_Ds23PiPi0_Ds23Pi2Pi0*((BF_Z2bb_err/BF_Z2bb)**2+(fd_err/fd)**2+(BF_Bd2KstarDsstarDs_err/BF_Bd2KstarDsstarDs)**2+(BF_Ds23PiPi0_err/BF_Ds23PiPi0)**2+(BF_Ds23Pi2Pi0_err/BF_Ds23Pi2Pi0)**2)**0.5\n",
    "\n",
    "BF_Bd2KstarDsstarDsstar_Ds2TauNu=BF_Z2bb*2*fd*BF_Bd2KstarDsstarDsstar*(BF_Ds2TauNu**2)*(BF_Tau23PiNu**2)*BF_Kstar2KPi\n",
    "BF_Bd2KstarDsstarDsstar_Ds2TauNu_err=BF_Bd2KstarDsstarDsstar_Ds2TauNu*((BF_Z2bb_err/BF_Z2bb)**2+(fd_err/fd)**2+(BF_Bd2KstarDsstarDsstar_err/BF_Bd2KstarDsstarDsstar)**2+2*(BF_Ds2TauNu_err/BF_Ds2TauNu)**2+2*(BF_Tau23PiNu_err/BF_Tau23PiNu)**2)**0.5\n",
    "BF_Bd2KstarDsstarDsstar_Ds23PiPi0=BF_Z2bb*2*fd*BF_Bd2KstarDsstarDsstar*(BF_Ds23PiPi0**2)*BF_Kstar2KPi\n",
    "BF_Bd2KstarDsstarDsstar_Ds23PiPi0_err=BF_Bd2KstarDsstarDsstar_Ds23PiPi0*((BF_Z2bb_err/BF_Z2bb)**2+(fd_err/fd)**2+(BF_Bd2KstarDsstarDsstar_err/BF_Bd2KstarDsstarDsstar)**2+2*(BF_Ds23PiPi0_err/BF_Ds23PiPi0)**2)**0.5\n",
    "BF_Bd2KstarDsstarDsstar_Ds23Pi2Pi0=BF_Z2bb*2*fd*BF_Bd2KstarDsstarDsstar*(BF_Ds23Pi2Pi0**2)*BF_Kstar2KPi\n",
    "BF_Bd2KstarDsstarDsstar_Ds23Pi2Pi0_err=BF_Bd2KstarDsstarDsstar_Ds23Pi2Pi0*((BF_Z2bb_err/BF_Z2bb)**2+(fd_err/fd)**2+(BF_Bd2KstarDsstarDsstar_err/BF_Bd2KstarDsstarDsstar)**2+2*(BF_Ds23Pi2Pi0_err/BF_Ds23Pi2Pi0)**2)**0.5\n",
    "BF_Bd2KstarDsstarDsstar_Ds2TauNu_Ds23PiPi0=BF_Z2bb*2*fd*BF_Bd2KstarDsstarDsstar*(BF_Ds2TauNu)*(BF_Tau23PiNu)*BF_Ds23PiPi0*BF_Kstar2KPi\n",
    "BF_Bd2KstarDsstarDsstar_Ds2TauNu_Ds23PiPi0_err=BF_Bd2KstarDsstarDsstar_Ds2TauNu_Ds23PiPi0*((BF_Z2bb_err/BF_Z2bb)**2+(fd_err/fd)**2+(BF_Bd2KstarDsstarDsstar_err/BF_Bd2KstarDsstarDsstar)**2+(BF_Ds2TauNu_err/BF_Ds2TauNu)**2+(BF_Tau23PiNu_err/BF_Tau23PiNu)**2+(BF_Ds23PiPi0_err/BF_Ds23PiPi0)**2)**0.5\n",
    "BF_Bd2KstarDsstarDsstar_Ds2TauNu_Ds23Pi2Pi0=BF_Z2bb*2*fd*BF_Bd2KstarDsstarDsstar*(BF_Ds2TauNu)*(BF_Tau23PiNu)*BF_Ds23Pi2Pi0*BF_Kstar2KPi\n",
    "BF_Bd2KstarDsstarDsstar_Ds2TauNu_Ds23Pi2Pi0_err=BF_Bd2KstarDsstarDsstar_Ds2TauNu_Ds23Pi2Pi0*((BF_Z2bb_err/BF_Z2bb)**2+(fd_err/fd)**2+(BF_Bd2KstarDsstarDsstar_err/BF_Bd2KstarDsstarDsstar)**2+(BF_Ds2TauNu_err/BF_Ds2TauNu)**2+(BF_Tau23PiNu_err/BF_Tau23PiNu)**2+(BF_Ds23Pi2Pi0_err/BF_Ds23Pi2Pi0)**2)**0.5\n",
    "BF_Bd2KstarDsstarDsstar_Ds23PiPi0_Ds23Pi2Pi0=BF_Z2bb*2*fd*BF_Bd2KstarDsstarDsstar*BF_Ds23PiPi0*BF_Ds23Pi2Pi0*BF_Kstar2KPi\n",
    "BF_Bd2KstarDsstarDsstar_Ds23PiPi0_Ds23Pi2Pi0_err=BF_Bd2KstarDsstarDsstar_Ds23PiPi0_Ds23Pi2Pi0*((BF_Z2bb_err/BF_Z2bb)**2+(fd_err/fd)**2+(BF_Bd2KstarDsstarDsstar_err/BF_Bd2KstarDsstarDsstar)**2+(BF_Ds23PiPi0_err/BF_Ds23PiPi0)**2+(BF_Ds23Pi2Pi0_err/BF_Ds23Pi2Pi0)**2)**0.5\n",
    "\n",
    "BF_Bs2KstarDTauNu_D23PiPi0=BF_Z2bb*2*fs*BF_Bs2KstarDTauNu*BF_D23PiPi0*BF_Tau23PiNu*BF_Kstar2KPi\n",
    "BF_Bs2KstarDTauNu_D23PiPi0_err=BF_Bs2KstarDTauNu_D23PiPi0*((BF_Z2bb_err/BF_Z2bb)**2+(fs_err/fs)**2+(BF_Bs2KstarDTauNu_err/BF_Bs2KstarDTauNu)**2+(BF_D23PiPi0_err/BF_D23PiPi0)**2+(BF_Tau23PiNu_err/BF_Tau23PiNu)**2)**0.5\n",
    "BF_Bs2KstarDstarTauNu_Dstar2D0Pi_D024PiPi0=BF_Z2bb*2*fs*BF_Bs2KstarDstarTauNu*BF_Dstar2D0Pi*BF_D024PiPi0*BF_Tau23PiNu*BF_Kstar2KPi\n",
    "BF_Bs2KstarDstarTauNu_Dstar2D0Pi_D024PiPi0_err=BF_Bs2KstarDstarTauNu_Dstar2D0Pi_D024PiPi0*((BF_Z2bb_err/BF_Z2bb)**2+(fs_err/fs)**2+(BF_Bs2KstarDstarTauNu_err/BF_Bs2KstarDstarTauNu)**2+(BF_Dstar2D0Pi_err/BF_Dstar2D0Pi)**2+(BF_D024PiPi0_err/BF_D024PiPi0)**2+(BF_Tau23PiNu_err/BF_Tau23PiNu)**2)**0.5\n",
    "BF_Bs2KstarDstarTauNu_Dstar2DPi0_D23PiPi0=BF_Z2bb*2*fs*BF_Bs2KstarDstarTauNu*BF_Dstar2DPi0*BF_D23PiPi0*BF_Tau23PiNu*BF_Kstar2KPi\n",
    "BF_Bs2KstarDstarTauNu_Dstar2DPi0_D23PiPi0_err=BF_Bs2KstarDstarTauNu_Dstar2DPi0_D23PiPi0*((BF_Z2bb_err/BF_Z2bb)**2+(fs_err/fs)**2+(BF_Bs2KstarDstarTauNu_err/BF_Bs2KstarDstarTauNu)**2+(BF_Dstar2DPi0_err/BF_Dstar2DPi0)**2+(BF_D23PiPi0_err/BF_D23PiPi0)**2+(BF_Tau23PiNu_err/BF_Tau23PiNu)**2)**0.5\n",
    "\n",
    "BF_Bd2KstarDsTauNu_Ds2TauNu=BF_Z2bb*2*fd*BF_Bd2KstarDsTauNu*BF_Ds2TauNu*(BF_Tau23PiNu**2)*BF_Kstar2KPi\n",
    "BF_Bd2KstarDsTauNu_Ds2TauNu_err=BF_Bd2KstarDsTauNu_Ds2TauNu*((BF_Z2bb_err/BF_Z2bb)**2+(fd_err/fd)**2+(BF_Bd2KstarDsTauNu_err/BF_Bd2KstarDsTauNu)**2+(BF_Ds2TauNu_err/BF_Ds2TauNu)**2+2*(BF_Tau23PiNu_err/BF_Tau23PiNu)**2)**0.5\n",
    "BF_Bd2KstarDsTauNu_Ds23PiPi0=BF_Z2bb*2*fd*BF_Bd2KstarDsTauNu*BF_Ds23PiPi0*BF_Tau23PiNu*BF_Kstar2KPi\n",
    "BF_Bd2KstarDsTauNu_Ds23PiPi0_err=BF_Bd2KstarDsTauNu_Ds23PiPi0*((BF_Z2bb_err/BF_Z2bb)**2+(fd_err/fd)**2+(BF_Bd2KstarDsTauNu_err/BF_Bd2KstarDsTauNu)**2+(BF_Ds23PiPi0_err/BF_Ds23PiPi0)**2+(BF_Tau23PiNu_err/BF_Tau23PiNu)**2)**0.5\n",
    "BF_Bd2KstarDsTauNu_Ds23Pi2Pi0=BF_Z2bb*2*fd*BF_Bd2KstarDsTauNu*BF_Ds23Pi2Pi0*BF_Tau23PiNu*BF_Kstar2KPi\n",
    "BF_Bd2KstarDsTauNu_Ds23Pi2Pi0_err=BF_Bd2KstarDsTauNu_Ds23Pi2Pi0*((BF_Z2bb_err/BF_Z2bb)**2+(fd_err/fd)**2+(BF_Bd2KstarDsTauNu_err/BF_Bd2KstarDsTauNu)**2+(BF_Ds23Pi2Pi0_err/BF_Ds23Pi2Pi0)**2+(BF_Tau23PiNu_err/BF_Tau23PiNu)**2)**0.5\n",
    "\n",
    "BF_Bd2KstarDsstarTauNu_Ds2TauNu=BF_Z2bb*2*fd*BF_Bd2KstarDsstarTauNu*BF_Ds2TauNu*(BF_Tau23PiNu**2)*BF_Kstar2KPi\n",
    "BF_Bd2KstarDsstarTauNu_Ds2TauNu_err=BF_Bd2KstarDsstarTauNu_Ds2TauNu*((BF_Z2bb_err/BF_Z2bb)**2+(fd_err/fd)**2+(BF_Bd2KstarDsstarTauNu_err/BF_Bd2KstarDsstarTauNu)**2+(BF_Ds2TauNu_err/BF_Ds2TauNu)**2+2*(BF_Tau23PiNu_err/BF_Tau23PiNu)**2)**0.5\n",
    "BF_Bd2KstarDsstarTauNu_Ds23PiPi0=BF_Z2bb*2*fd*BF_Bd2KstarDsstarTauNu*BF_Ds23PiPi0*BF_Tau23PiNu*BF_Kstar2KPi\n",
    "BF_Bd2KstarDsstarTauNu_Ds23PiPi0_err=BF_Bd2KstarDsstarTauNu_Ds23PiPi0*((BF_Z2bb_err/BF_Z2bb)**2+(fd_err/fd)**2+(BF_Bd2KstarDsstarTauNu_err/BF_Bd2KstarDsstarTauNu)**2+(BF_Ds23PiPi0_err/BF_Ds23PiPi0)**2+(BF_Tau23PiNu_err/BF_Tau23PiNu)**2)**0.5\n",
    "BF_Bd2KstarDsstarTauNu_Ds23Pi2Pi0=BF_Z2bb*2*fd*BF_Bd2KstarDsstarTauNu*BF_Ds23Pi2Pi0*BF_Tau23PiNu*BF_Kstar2KPi\n",
    "BF_Bd2KstarDsstarTauNu_Ds23Pi2Pi0_err=BF_Bd2KstarDsstarTauNu_Ds23Pi2Pi0*((BF_Z2bb_err/BF_Z2bb)**2+(fd_err/fd)**2+(BF_Bd2KstarDsstarTauNu_err/BF_Bd2KstarDsstarTauNu)**2+(BF_Ds23Pi2Pi0_err/BF_Ds23Pi2Pi0)**2+(BF_Tau23PiNu_err/BF_Tau23PiNu)**2)**0.5\n",
    "\n",
    "print(BF_Bd2KstarDsstarTauNu_Ds23Pi2Pi0)"
   ]
  },
  {
   "cell_type": "code",
   "execution_count": 4,
   "metadata": {},
   "outputs": [],
   "source": [
    "dico={\n",
    "\"Signal\":{\"Visible_BF\":BF_Bd2KstarTauTau,\"Visible_BF_err\":BF_Bd2KstarTauTau_err},\n",
    "\n",
    "\"Bd2KstarDsDs_Ds2TauNu\":{\"Visible_BF\":BF_Bd2KstarDsDs_Ds2TauNu,\"Visible_BF_err\":BF_Bd2KstarDsDs_Ds2TauNu_err},\n",
    "\"Bd2KstarDsDs_Ds23PiPi0\":{\"Visible_BF\":BF_Bd2KstarDsDs_Ds23PiPi0,\"Visible_BF_err\":BF_Bd2KstarDsDs_Ds23PiPi0_err},\n",
    "\"Bd2KstarDsDs_Ds23Pi2Pi0\":{\"Visible_BF\":BF_Bd2KstarDsDs_Ds23Pi2Pi0,\"Visible_BF_err\":BF_Bd2KstarDsDs_Ds23Pi2Pi0_err},\n",
    "\"Bd2KstarDsDs_Ds2TauNu_Ds23PiPi0\":{\"Visible_BF\":BF_Bd2KstarDsDs_Ds2TauNu_Ds23PiPi0,\"Visible_BF_err\":BF_Bd2KstarDsDs_Ds2TauNu_Ds23PiPi0_err},\n",
    "\"Bd2KstarDsDs_Ds2TauNu_Ds23Pi2Pi0\":{\"Visible_BF\":BF_Bd2KstarDsDs_Ds2TauNu_Ds23Pi2Pi0,\"Visible_BF_err\":BF_Bd2KstarDsDs_Ds2TauNu_Ds23Pi2Pi0_err},\n",
    "\"Bd2KstarDsDs_Ds23PiPi0_Ds23Pi2Pi0\":{\"Visible_BF\":BF_Bd2KstarDsDs_Ds23PiPi0_Ds23Pi2Pi0,\"Visible_BF_err\":BF_Bd2KstarDsDs_Ds23PiPi0_Ds23Pi2Pi0_err},\n",
    "\"Bd2KstarDsstarDs_Ds2TauNu\":{\"Visible_BF\":BF_Bd2KstarDsstarDs_Ds2TauNu,\"Visible_BF_err\":BF_Bd2KstarDsstarDs_Ds2TauNu_err},\n",
    "\"Bd2KstarDsstarDs_Ds23PiPi0\":{\"Visible_BF\":BF_Bd2KstarDsstarDs_Ds23PiPi0,\"Visible_BF_err\":BF_Bd2KstarDsstarDs_Ds23PiPi0_err},\n",
    "\"Bd2KstarDsstarDs_Ds23Pi2Pi0\":{\"Visible_BF\":BF_Bd2KstarDsstarDs_Ds23Pi2Pi0,\"Visible_BF_err\":BF_Bd2KstarDsstarDs_Ds23Pi2Pi0_err},\n",
    "\"Bd2KstarDsstarDs_Ds2TauNu_Ds23PiPi0\":{\"Visible_BF\":BF_Bd2KstarDsstarDs_Ds2TauNu_Ds23PiPi0,\"Visible_BF_err\":BF_Bd2KstarDsstarDs_Ds2TauNu_Ds23PiPi0_err},\n",
    "\"Bd2KstarDsstarDs_Ds2TauNu_Ds23Pi2Pi0\":{\"Visible_BF\":BF_Bd2KstarDsstarDs_Ds2TauNu_Ds23Pi2Pi0,\"Visible_BF_err\":BF_Bd2KstarDsstarDs_Ds2TauNu_Ds23Pi2Pi0_err},\n",
    "\"Bd2KstarDsstarDs_Ds23PiPi0_Ds23Pi2Pi0\":{\"Visible_BF\":BF_Bd2KstarDsstarDs_Ds23PiPi0_Ds23Pi2Pi0,\"Visible_BF_err\":BF_Bd2KstarDsstarDs_Ds23PiPi0_Ds23Pi2Pi0_err},\n",
    "\"Bd2KstarDsstarDsstar_Ds2TauNu\":{\"Visible_BF\":BF_Bd2KstarDsstarDsstar_Ds2TauNu,\"Visible_BF_err\":BF_Bd2KstarDsstarDsstar_Ds2TauNu_err},\n",
    "\"Bd2KstarDsstarDsstar_Ds23PiPi0\":{\"Visible_BF\":BF_Bd2KstarDsstarDsstar_Ds23PiPi0,\"Visible_BF_err\":BF_Bd2KstarDsstarDsstar_Ds23PiPi0_err},\n",
    "\"Bd2KstarDsstarDsstar_Ds23Pi2Pi0\":{\"Visible_BF\":BF_Bd2KstarDsstarDsstar_Ds23Pi2Pi0,\"Visible_BF_err\":BF_Bd2KstarDsstarDsstar_Ds23Pi2Pi0_err},\n",
    "\"Bd2KstarDsstarDsstar_Ds2TauNu_Ds23PiPi0\":{\"Visible_BF\":BF_Bd2KstarDsstarDsstar_Ds2TauNu_Ds23PiPi0,\"Visible_BF_err\":BF_Bd2KstarDsstarDsstar_Ds2TauNu_Ds23PiPi0_err},\n",
    "\"Bd2KstarDsstarDsstar_Ds2TauNu_Ds23Pi2Pi0\":{\"Visible_BF\":BF_Bd2KstarDsstarDsstar_Ds2TauNu_Ds23Pi2Pi0,\"Visible_BF_err\":BF_Bd2KstarDsstarDsstar_Ds2TauNu_Ds23Pi2Pi0_err},\n",
    "\"Bd2KstarDsstarDsstar_Ds23PiPi0_Ds23Pi2Pi0\":{\"Visible_BF\":BF_Bd2KstarDsstarDsstar_Ds23PiPi0_Ds23Pi2Pi0,\"Visible_BF_err\":BF_Bd2KstarDsstarDsstar_Ds23PiPi0_Ds23Pi2Pi0_err},\n",
    "\n",
    "\"Bs2KstarDTauNu_D23PiPi0\":{\"Visible_BF\":BF_Bs2KstarDTauNu_D23PiPi0,\"Visible_BF_err\":BF_Bs2KstarDTauNu_D23PiPi0_err},\n",
    "\"Bs2KstarDstarTauNu_Dstar2DPi0_D23PiPi0\":{\"Visible_BF\":BF_Bs2KstarDstarTauNu_Dstar2DPi0_D23PiPi0,\"Visible_BF_err\":BF_Bs2KstarDstarTauNu_Dstar2DPi0_D23PiPi0_err},\n",
    "\"Bs2KstarDstarTauNu_Dstar2D0Pi_D024PiPi0\":{\"Visible_BF\":BF_Bs2KstarDstarTauNu_Dstar2D0Pi_D024PiPi0,\"Visible_BF_err\":BF_Bs2KstarDstarTauNu_Dstar2D0Pi_D024PiPi0_err},\n",
    "\n",
    "\"Bd2KstarDsTauNu_Ds2TauNu\":{\"Visible_BF\":BF_Bd2KstarDsTauNu_Ds2TauNu,\"Visible_BF_err\":BF_Bd2KstarDsTauNu_Ds2TauNu_err},\n",
    "\"Bd2KstarDsTauNu_Ds23PiPi0\":{\"Visible_BF\":BF_Bd2KstarDsTauNu_Ds23PiPi0,\"Visible_BF_err\":BF_Bd2KstarDsTauNu_Ds23PiPi0_err},\n",
    "\"Bd2KstarDsTauNu_Ds23Pi2Pi0\":{\"Visible_BF\":BF_Bd2KstarDsTauNu_Ds23Pi2Pi0,\"Visible_BF_err\":BF_Bd2KstarDsTauNu_Ds23Pi2Pi0_err},\n",
    "\"Bd2KstarDsstarTauNu_Ds2TauNu\":{\"Visible_BF\":BF_Bd2KstarDsstarTauNu_Ds2TauNu,\"Visible_BF_err\":BF_Bd2KstarDsstarTauNu_Ds2TauNu_err},\n",
    "\"Bd2KstarDsstarTauNu_Ds23PiPi0\":{\"Visible_BF\":BF_Bd2KstarDsstarTauNu_Ds23PiPi0,\"Visible_BF_err\":BF_Bd2KstarDsstarTauNu_Ds23PiPi0_err},\n",
    "\"Bd2KstarDsstarTauNu_Ds23Pi2Pi0\":{\"Visible_BF\":BF_Bd2KstarDsstarTauNu_Ds23Pi2Pi0,\"Visible_BF_err\":BF_Bd2KstarDsstarTauNu_Ds23Pi2Pi0_err}\n",
    "\n",
    "\n",
    "}"
   ]
  },
  {
   "cell_type": "code",
   "execution_count": 5,
   "metadata": {},
   "outputs": [],
   "source": [
    "eff_Ds2TauNu=(0.101)**0.5\n",
    "eff_Ds23PiPi0=(0.005)**0.5\n",
    "eff_Ds23Pi2Pi0=(0.191)**0.5\n",
    "\n",
    "eff_star=(0.365)**0.5"
   ]
  },
  {
   "cell_type": "code",
   "execution_count": 6,
   "metadata": {},
   "outputs": [
    {
     "name": "stderr",
     "output_type": "stream",
     "text": [
      "/var/folders/hc/7r1d6y954cscdrl_dhs2jt_w0000gn/T/ipykernel_13987/3441537185.py:29: SettingWithCopyWarning: \n",
      "A value is trying to be set on a copy of a slice from a DataFrame\n",
      "\n",
      "See the caveats in the documentation: https://pandas.pydata.org/pandas-docs/stable/user_guide/indexing.html#returning-a-view-versus-a-copy\n",
      "  df[\"nb_Ds2TauNu\"][((df[\"nb_Ds\"]+df[\"nb_Dsstar\"])==2)*(df[\"nb_Ds23PiPi0\"]==0)*(df[\"nb_Ds23Pi2Pi0\"]==0)]=2\n",
      "/var/folders/hc/7r1d6y954cscdrl_dhs2jt_w0000gn/T/ipykernel_13987/3441537185.py:30: SettingWithCopyWarning: \n",
      "A value is trying to be set on a copy of a slice from a DataFrame\n",
      "\n",
      "See the caveats in the documentation: https://pandas.pydata.org/pandas-docs/stable/user_guide/indexing.html#returning-a-view-versus-a-copy\n",
      "  df[\"nb_Ds23PiPi0\"][((df[\"nb_Ds\"]+df[\"nb_Dsstar\"])==2)*(df[\"nb_Ds2TauNu\"]==0)*(df[\"nb_Ds23Pi2Pi0\"]==0)]=2\n",
      "/var/folders/hc/7r1d6y954cscdrl_dhs2jt_w0000gn/T/ipykernel_13987/3441537185.py:31: SettingWithCopyWarning: \n",
      "A value is trying to be set on a copy of a slice from a DataFrame\n",
      "\n",
      "See the caveats in the documentation: https://pandas.pydata.org/pandas-docs/stable/user_guide/indexing.html#returning-a-view-versus-a-copy\n",
      "  df[\"nb_Ds23Pi2Pi0\"][((df[\"nb_Ds\"]+df[\"nb_Dsstar\"])==2)*(df[\"nb_Ds23PiPi0\"]==0)*(df[\"nb_Ds2TauNu\"]==0)]=2\n",
      "/var/folders/hc/7r1d6y954cscdrl_dhs2jt_w0000gn/T/ipykernel_13987/3441537185.py:35: SettingWithCopyWarning: \n",
      "A value is trying to be set on a copy of a slice from a DataFrame\n",
      "\n",
      "See the caveats in the documentation: https://pandas.pydata.org/pandas-docs/stable/user_guide/indexing.html#returning-a-view-versus-a-copy\n",
      "  df[\"eff_pred\"][df[\"Mode\"]==\"Signal\"]=0.313\n",
      "/var/folders/hc/7r1d6y954cscdrl_dhs2jt_w0000gn/T/ipykernel_13987/3441537185.py:36: SettingWithCopyWarning: \n",
      "A value is trying to be set on a copy of a slice from a DataFrame\n",
      "\n",
      "See the caveats in the documentation: https://pandas.pydata.org/pandas-docs/stable/user_guide/indexing.html#returning-a-view-versus-a-copy\n",
      "  df[\"eff_pred\"][df[\"Mode\"]==\"Bs2KstarDTauNu_D23PiPi0\"]=df[\"eff_pred\"][df[\"Mode\"]==\"Bd2KstarDsTauNu_Ds23Pi2Pi0\"].values\n",
      "/var/folders/hc/7r1d6y954cscdrl_dhs2jt_w0000gn/T/ipykernel_13987/3441537185.py:37: SettingWithCopyWarning: \n",
      "A value is trying to be set on a copy of a slice from a DataFrame\n",
      "\n",
      "See the caveats in the documentation: https://pandas.pydata.org/pandas-docs/stable/user_guide/indexing.html#returning-a-view-versus-a-copy\n",
      "  df[\"eff_pred\"][df[\"Mode\"]==\"Bs2KstarDstarTauNu_Dstar2DPi0_D23PiPi0\"]=df[\"eff_pred\"][df[\"Mode\"]==\"Bd2KstarDsTauNu_Ds23Pi2Pi0\"].values\n",
      "/var/folders/hc/7r1d6y954cscdrl_dhs2jt_w0000gn/T/ipykernel_13987/3441537185.py:38: SettingWithCopyWarning: \n",
      "A value is trying to be set on a copy of a slice from a DataFrame\n",
      "\n",
      "See the caveats in the documentation: https://pandas.pydata.org/pandas-docs/stable/user_guide/indexing.html#returning-a-view-versus-a-copy\n",
      "  df[\"eff_pred\"][df[\"Mode\"]==\"Bs2KstarDstarTauNu_Dstar2D0Pi_D024PiPi0\"]=df[\"eff_pred\"][df[\"Mode\"]==\"Bd2KstarDsTauNu_Ds23Pi2Pi0\"].values\n"
     ]
    },
    {
     "data": {
      "text/html": [
       "<style type=\"text/css\">\n",
       "#T_551c9_row2_col0, #T_551c9_row4_col0, #T_551c9_row5_col0, #T_551c9_row6_col0, #T_551c9_row7_col0, #T_551c9_row10_col0, #T_551c9_row12_col0, #T_551c9_row15_col0, #T_551c9_row18_col0 {\n",
       "  background-color: darkgreen;\n",
       "}\n",
       "#T_551c9_row17_col0 {\n",
       "  background-color: darkblue;\n",
       "}\n",
       "</style>\n",
       "<table id=\"T_551c9\">\n",
       "  <thead>\n",
       "    <tr>\n",
       "      <th class=\"blank level0\" >&nbsp;</th>\n",
       "      <th id=\"T_551c9_level0_col0\" class=\"col_heading level0 col0\" >Mode</th>\n",
       "      <th id=\"T_551c9_level0_col1\" class=\"col_heading level0 col1\" >Visible_BF</th>\n",
       "      <th id=\"T_551c9_level0_col2\" class=\"col_heading level0 col2\" >eff_pred</th>\n",
       "      <th id=\"T_551c9_level0_col3\" class=\"col_heading level0 col3\" >Visible_BF*eff</th>\n",
       "    </tr>\n",
       "  </thead>\n",
       "  <tbody>\n",
       "    <tr>\n",
       "      <th id=\"T_551c9_level0_row0\" class=\"row_heading level0 row0\" >9</th>\n",
       "      <td id=\"T_551c9_row0_col0\" class=\"data row0 col0\" >Bd2KstarDsstarDs_Ds23Pi2Pi0</td>\n",
       "      <td id=\"T_551c9_row0_col1\" class=\"data row0 col1\" >3.22E-08</td>\n",
       "      <td id=\"T_551c9_row0_col2\" class=\"data row0 col2\" >0.115393</td>\n",
       "      <td id=\"T_551c9_row0_col3\" class=\"data row0 col3\" >3.713153E-09</td>\n",
       "    </tr>\n",
       "    <tr>\n",
       "      <th id=\"T_551c9_level0_row1\" class=\"row_heading level0 row1\" >15</th>\n",
       "      <td id=\"T_551c9_row1_col0\" class=\"data row1 col0\" >Bd2KstarDsstarDsstar_Ds23Pi2Pi0</td>\n",
       "      <td id=\"T_551c9_row1_col1\" class=\"data row1 col1\" >3.33E-08</td>\n",
       "      <td id=\"T_551c9_row1_col2\" class=\"data row1 col2\" >0.069715</td>\n",
       "      <td id=\"T_551c9_row1_col3\" class=\"data row1 col3\" >2.321113E-09</td>\n",
       "    </tr>\n",
       "    <tr>\n",
       "      <th id=\"T_551c9_level0_row2\" class=\"row_heading level0 row2\" >27</th>\n",
       "      <td id=\"T_551c9_row2_col0\" class=\"data row2 col0\" >Bd2KstarDsstarTauNu_Ds23Pi2Pi0</td>\n",
       "      <td id=\"T_551c9_row2_col1\" class=\"data row2 col1\" >7.51E-09</td>\n",
       "      <td id=\"T_551c9_row2_col2\" class=\"data row2 col2\" >0.264036</td>\n",
       "      <td id=\"T_551c9_row2_col3\" class=\"data row2 col3\" >1.983261E-09</td>\n",
       "    </tr>\n",
       "    <tr>\n",
       "      <th id=\"T_551c9_level0_row3\" class=\"row_heading level0 row3\" >3</th>\n",
       "      <td id=\"T_551c9_row3_col0\" class=\"data row3 col0\" >Bd2KstarDsDs_Ds23Pi2Pi0</td>\n",
       "      <td id=\"T_551c9_row3_col1\" class=\"data row3 col1\" >1.02E-08</td>\n",
       "      <td id=\"T_551c9_row3_col2\" class=\"data row3 col2\" >0.191000</td>\n",
       "      <td id=\"T_551c9_row3_col3\" class=\"data row3 col3\" >1.943290E-09</td>\n",
       "    </tr>\n",
       "    <tr>\n",
       "      <th id=\"T_551c9_level0_row4\" class=\"row_heading level0 row4\" >24</th>\n",
       "      <td id=\"T_551c9_row4_col0\" class=\"data row4 col0\" >Bd2KstarDsTauNu_Ds23Pi2Pi0</td>\n",
       "      <td id=\"T_551c9_row4_col1\" class=\"data row4 col1\" >3.39E-09</td>\n",
       "      <td id=\"T_551c9_row4_col2\" class=\"data row4 col2\" >0.437035</td>\n",
       "      <td id=\"T_551c9_row4_col3\" class=\"data row4 col3\" >1.482883E-09</td>\n",
       "    </tr>\n",
       "    <tr>\n",
       "      <th id=\"T_551c9_level0_row5\" class=\"row_heading level0 row5\" >19</th>\n",
       "      <td id=\"T_551c9_row5_col0\" class=\"data row5 col0\" >Bs2KstarDTauNu_D23PiPi0</td>\n",
       "      <td id=\"T_551c9_row5_col1\" class=\"data row5 col1\" >1.65E-09</td>\n",
       "      <td id=\"T_551c9_row5_col2\" class=\"data row5 col2\" >0.437035</td>\n",
       "      <td id=\"T_551c9_row5_col3\" class=\"data row5 col3\" >7.231211E-10</td>\n",
       "    </tr>\n",
       "    <tr>\n",
       "      <th id=\"T_551c9_level0_row6\" class=\"row_heading level0 row6\" >20</th>\n",
       "      <td id=\"T_551c9_row6_col0\" class=\"data row6 col0\" >Bs2KstarDstarTauNu_Dstar2DPi0_D23PiPi0</td>\n",
       "      <td id=\"T_551c9_row6_col1\" class=\"data row6 col1\" >1.12E-09</td>\n",
       "      <td id=\"T_551c9_row6_col2\" class=\"data row6 col2\" >0.437035</td>\n",
       "      <td id=\"T_551c9_row6_col3\" class=\"data row6 col3\" >4.916328E-10</td>\n",
       "    </tr>\n",
       "    <tr>\n",
       "      <th id=\"T_551c9_level0_row7\" class=\"row_heading level0 row7\" >21</th>\n",
       "      <td id=\"T_551c9_row7_col0\" class=\"data row7 col0\" >Bs2KstarDstarTauNu_Dstar2D0Pi_D024PiPi0</td>\n",
       "      <td id=\"T_551c9_row7_col1\" class=\"data row7 col1\" >8.98E-10</td>\n",
       "      <td id=\"T_551c9_row7_col2\" class=\"data row7 col2\" >0.437035</td>\n",
       "      <td id=\"T_551c9_row7_col3\" class=\"data row7 col3\" >3.925387E-10</td>\n",
       "    </tr>\n",
       "    <tr>\n",
       "      <th id=\"T_551c9_level0_row8\" class=\"row_heading level0 row8\" >11</th>\n",
       "      <td id=\"T_551c9_row8_col0\" class=\"data row8 col0\" >Bd2KstarDsstarDs_Ds2TauNu_Ds23Pi2Pi0</td>\n",
       "      <td id=\"T_551c9_row8_col1\" class=\"data row8 col1\" >3.41E-09</td>\n",
       "      <td id=\"T_551c9_row8_col2\" class=\"data row8 col2\" >0.083912</td>\n",
       "      <td id=\"T_551c9_row8_col3\" class=\"data row8 col3\" >2.857606E-10</td>\n",
       "    </tr>\n",
       "    <tr>\n",
       "      <th id=\"T_551c9_level0_row9\" class=\"row_heading level0 row9\" >17</th>\n",
       "      <td id=\"T_551c9_row9_col0\" class=\"data row9 col0\" >Bd2KstarDsstarDsstar_Ds2TauNu_Ds23Pi2Pi0</td>\n",
       "      <td id=\"T_551c9_row9_col1\" class=\"data row9 col1\" >3.52E-09</td>\n",
       "      <td id=\"T_551c9_row9_col2\" class=\"data row9 col2\" >0.050696</td>\n",
       "      <td id=\"T_551c9_row9_col3\" class=\"data row9 col3\" >1.786305E-10</td>\n",
       "    </tr>\n",
       "    <tr>\n",
       "      <th id=\"T_551c9_level0_row10\" class=\"row_heading level0 row10\" >25</th>\n",
       "      <td id=\"T_551c9_row10_col0\" class=\"data row10 col0\" >Bd2KstarDsstarTauNu_Ds2TauNu</td>\n",
       "      <td id=\"T_551c9_row10_col1\" class=\"data row10 col1\" >7.95E-10</td>\n",
       "      <td id=\"T_551c9_row10_col2\" class=\"data row10 col2\" >0.192003</td>\n",
       "      <td id=\"T_551c9_row10_col3\" class=\"data row10 col3\" >1.526298E-10</td>\n",
       "    </tr>\n",
       "    <tr>\n",
       "      <th id=\"T_551c9_level0_row11\" class=\"row_heading level0 row11\" >5</th>\n",
       "      <td id=\"T_551c9_row11_col0\" class=\"data row11 col0\" >Bd2KstarDsDs_Ds2TauNu_Ds23Pi2Pi0</td>\n",
       "      <td id=\"T_551c9_row11_col1\" class=\"data row11 col1\" >1.08E-09</td>\n",
       "      <td id=\"T_551c9_row11_col2\" class=\"data row11 col2\" >0.138892</td>\n",
       "      <td id=\"T_551c9_row11_col3\" class=\"data row11 col3\" >1.495537E-10</td>\n",
       "    </tr>\n",
       "    <tr>\n",
       "      <th id=\"T_551c9_level0_row12\" class=\"row_heading level0 row12\" >22</th>\n",
       "      <td id=\"T_551c9_row12_col0\" class=\"data row12 col0\" >Bd2KstarDsTauNu_Ds2TauNu</td>\n",
       "      <td id=\"T_551c9_row12_col1\" class=\"data row12 col1\" >3.59E-10</td>\n",
       "      <td id=\"T_551c9_row12_col2\" class=\"data row12 col2\" >0.317805</td>\n",
       "      <td id=\"T_551c9_row12_col3\" class=\"data row12 col3\" >1.141212E-10</td>\n",
       "    </tr>\n",
       "    <tr>\n",
       "      <th id=\"T_551c9_level0_row13\" class=\"row_heading level0 row13\" >12</th>\n",
       "      <td id=\"T_551c9_row13_col0\" class=\"data row13 col0\" >Bd2KstarDsstarDs_Ds23PiPi0_Ds23Pi2Pi0</td>\n",
       "      <td id=\"T_551c9_row13_col1\" class=\"data row13 col1\" >3.84E-09</td>\n",
       "      <td id=\"T_551c9_row13_col2\" class=\"data row13 col2\" >0.018670</td>\n",
       "      <td id=\"T_551c9_row13_col3\" class=\"data row13 col3\" >7.163076E-11</td>\n",
       "    </tr>\n",
       "    <tr>\n",
       "      <th id=\"T_551c9_level0_row14\" class=\"row_heading level0 row14\" >18</th>\n",
       "      <td id=\"T_551c9_row14_col0\" class=\"data row14 col0\" >Bd2KstarDsstarDsstar_Ds23PiPi0_Ds23Pi2Pi0</td>\n",
       "      <td id=\"T_551c9_row14_col1\" class=\"data row14 col1\" >3.97E-09</td>\n",
       "      <td id=\"T_551c9_row14_col2\" class=\"data row14 col2\" >0.011280</td>\n",
       "      <td id=\"T_551c9_row14_col3\" class=\"data row14 col3\" >4.477679E-11</td>\n",
       "    </tr>\n",
       "    <tr>\n",
       "      <th id=\"T_551c9_level0_row15\" class=\"row_heading level0 row15\" >26</th>\n",
       "      <td id=\"T_551c9_row15_col0\" class=\"data row15 col0\" >Bd2KstarDsstarTauNu_Ds23PiPi0</td>\n",
       "      <td id=\"T_551c9_row15_col1\" class=\"data row15 col1\" >8.96E-10</td>\n",
       "      <td id=\"T_551c9_row15_col2\" class=\"data row15 col2\" >0.042720</td>\n",
       "      <td id=\"T_551c9_row15_col3\" class=\"data row15 col3\" >3.825927E-11</td>\n",
       "    </tr>\n",
       "    <tr>\n",
       "      <th id=\"T_551c9_level0_row16\" class=\"row_heading level0 row16\" >6</th>\n",
       "      <td id=\"T_551c9_row16_col0\" class=\"data row16 col0\" >Bd2KstarDsDs_Ds23PiPi0_Ds23Pi2Pi0</td>\n",
       "      <td id=\"T_551c9_row16_col1\" class=\"data row16 col1\" >1.21E-09</td>\n",
       "      <td id=\"T_551c9_row16_col2\" class=\"data row16 col2\" >0.030903</td>\n",
       "      <td id=\"T_551c9_row16_col3\" class=\"data row16 col3\" >3.748818E-11</td>\n",
       "    </tr>\n",
       "    <tr>\n",
       "      <th id=\"T_551c9_level0_row17\" class=\"row_heading level0 row17\" >0</th>\n",
       "      <td id=\"T_551c9_row17_col0\" class=\"data row17 col0\" >Signal</td>\n",
       "      <td id=\"T_551c9_row17_col1\" class=\"data row17 col1\" >9.57E-11</td>\n",
       "      <td id=\"T_551c9_row17_col2\" class=\"data row17 col2\" >0.313000</td>\n",
       "      <td id=\"T_551c9_row17_col3\" class=\"data row17 col3\" >2.995107E-11</td>\n",
       "    </tr>\n",
       "    <tr>\n",
       "      <th id=\"T_551c9_level0_row18\" class=\"row_heading level0 row18\" >23</th>\n",
       "      <td id=\"T_551c9_row18_col0\" class=\"data row18 col0\" >Bd2KstarDsTauNu_Ds23PiPi0</td>\n",
       "      <td id=\"T_551c9_row18_col1\" class=\"data row18 col1\" >4.05E-10</td>\n",
       "      <td id=\"T_551c9_row18_col2\" class=\"data row18 col2\" >0.070711</td>\n",
       "      <td id=\"T_551c9_row18_col3\" class=\"data row18 col3\" >2.860642E-11</td>\n",
       "    </tr>\n",
       "    <tr>\n",
       "      <th id=\"T_551c9_level0_row19\" class=\"row_heading level0 row19\" >7</th>\n",
       "      <td id=\"T_551c9_row19_col0\" class=\"data row19 col0\" >Bd2KstarDsstarDs_Ds2TauNu</td>\n",
       "      <td id=\"T_551c9_row19_col1\" class=\"data row19 col1\" >3.60E-10</td>\n",
       "      <td id=\"T_551c9_row19_col2\" class=\"data row19 col2\" >0.061019</td>\n",
       "      <td id=\"T_551c9_row19_col3\" class=\"data row19 col3\" >2.199185E-11</td>\n",
       "    </tr>\n",
       "    <tr>\n",
       "      <th id=\"T_551c9_level0_row20\" class=\"row_heading level0 row20\" >13</th>\n",
       "      <td id=\"T_551c9_row20_col0\" class=\"data row20 col0\" >Bd2KstarDsstarDsstar_Ds2TauNu</td>\n",
       "      <td id=\"T_551c9_row20_col1\" class=\"data row20 col1\" >3.73E-10</td>\n",
       "      <td id=\"T_551c9_row20_col2\" class=\"data row20 col2\" >0.036865</td>\n",
       "      <td id=\"T_551c9_row20_col3\" class=\"data row20 col3\" >1.374723E-11</td>\n",
       "    </tr>\n",
       "    <tr>\n",
       "      <th id=\"T_551c9_level0_row21\" class=\"row_heading level0 row21\" >1</th>\n",
       "      <td id=\"T_551c9_row21_col0\" class=\"data row21 col0\" >Bd2KstarDsDs_Ds2TauNu</td>\n",
       "      <td id=\"T_551c9_row21_col1\" class=\"data row21 col1\" >1.14E-10</td>\n",
       "      <td id=\"T_551c9_row21_col2\" class=\"data row21 col2\" >0.101000</td>\n",
       "      <td id=\"T_551c9_row21_col3\" class=\"data row21 col3\" >1.150950E-11</td>\n",
       "    </tr>\n",
       "    <tr>\n",
       "      <th id=\"T_551c9_level0_row22\" class=\"row_heading level0 row22\" >10</th>\n",
       "      <td id=\"T_551c9_row22_col0\" class=\"data row22 col0\" >Bd2KstarDsstarDs_Ds2TauNu_Ds23PiPi0</td>\n",
       "      <td id=\"T_551c9_row22_col1\" class=\"data row22 col1\" >4.06E-10</td>\n",
       "      <td id=\"T_551c9_row22_col2\" class=\"data row22 col2\" >0.013577</td>\n",
       "      <td id=\"T_551c9_row22_col3\" class=\"data row22 col3\" >5.512632E-12</td>\n",
       "    </tr>\n",
       "    <tr>\n",
       "      <th id=\"T_551c9_level0_row23\" class=\"row_heading level0 row23\" >16</th>\n",
       "      <td id=\"T_551c9_row23_col0\" class=\"data row23 col0\" >Bd2KstarDsstarDsstar_Ds2TauNu_Ds23PiPi0</td>\n",
       "      <td id=\"T_551c9_row23_col1\" class=\"data row23 col1\" >4.20E-10</td>\n",
       "      <td id=\"T_551c9_row23_col2\" class=\"data row23 col2\" >0.008202</td>\n",
       "      <td id=\"T_551c9_row23_col3\" class=\"data row23 col3\" >3.445977E-12</td>\n",
       "    </tr>\n",
       "    <tr>\n",
       "      <th id=\"T_551c9_level0_row24\" class=\"row_heading level0 row24\" >4</th>\n",
       "      <td id=\"T_551c9_row24_col0\" class=\"data row24 col0\" >Bd2KstarDsDs_Ds2TauNu_Ds23PiPi0</td>\n",
       "      <td id=\"T_551c9_row24_col1\" class=\"data row24 col1\" >1.28E-10</td>\n",
       "      <td id=\"T_551c9_row24_col2\" class=\"data row24 col2\" >0.022472</td>\n",
       "      <td id=\"T_551c9_row24_col3\" class=\"data row24 col3\" >2.885053E-12</td>\n",
       "    </tr>\n",
       "    <tr>\n",
       "      <th id=\"T_551c9_level0_row25\" class=\"row_heading level0 row25\" >8</th>\n",
       "      <td id=\"T_551c9_row25_col0\" class=\"data row25 col0\" >Bd2KstarDsstarDs_Ds23PiPi0</td>\n",
       "      <td id=\"T_551c9_row25_col1\" class=\"data row25 col1\" >4.57E-10</td>\n",
       "      <td id=\"T_551c9_row25_col2\" class=\"data row25 col2\" >0.003021</td>\n",
       "      <td id=\"T_551c9_row25_col3\" class=\"data row25 col3\" >1.381835E-12</td>\n",
       "    </tr>\n",
       "    <tr>\n",
       "      <th id=\"T_551c9_level0_row26\" class=\"row_heading level0 row26\" >14</th>\n",
       "      <td id=\"T_551c9_row26_col0\" class=\"data row26 col0\" >Bd2KstarDsstarDsstar_Ds23PiPi0</td>\n",
       "      <td id=\"T_551c9_row26_col1\" class=\"data row26 col1\" >4.73E-10</td>\n",
       "      <td id=\"T_551c9_row26_col2\" class=\"data row26 col2\" >0.001825</td>\n",
       "      <td id=\"T_551c9_row26_col3\" class=\"data row26 col3\" >8.637928E-13</td>\n",
       "    </tr>\n",
       "    <tr>\n",
       "      <th id=\"T_551c9_level0_row27\" class=\"row_heading level0 row27\" >2</th>\n",
       "      <td id=\"T_551c9_row27_col0\" class=\"data row27 col0\" >Bd2KstarDsDs_Ds23PiPi0</td>\n",
       "      <td id=\"T_551c9_row27_col1\" class=\"data row27 col1\" >1.45E-10</td>\n",
       "      <td id=\"T_551c9_row27_col2\" class=\"data row27 col2\" >0.005000</td>\n",
       "      <td id=\"T_551c9_row27_col3\" class=\"data row27 col3\" >7.231877E-13</td>\n",
       "    </tr>\n",
       "  </tbody>\n",
       "</table>\n"
      ],
      "text/plain": [
       "<pandas.io.formats.style.Styler at 0x109079f90>"
      ]
     },
     "execution_count": 6,
     "metadata": {},
     "output_type": "execute_result"
    }
   ],
   "source": [
    "pd.set_option('display.float_format', '{:.2E}'.format)\n",
    "df=pd.DataFrame.from_dict(dico).T\n",
    "def over_threshold(series):\n",
    "    highlight = 'background-color: darkorange;'\n",
    "    default = ''\n",
    "    return [highlight if abs(e) > 1e-9 else default for e in series]\n",
    "def b2cTauNu_bkgs(series):\n",
    "    highlight = 'background-color: darkgreen;'\n",
    "    default = ''\n",
    "    return [highlight if ((\"Bs\" in e )or(\"Bd2KstarDsTauNu\" in e)or(\"Bd2KstarDsstarTauNu\" in e))else default for e in series]\n",
    "def is_sig(series):\n",
    "    highlight = 'background-color: darkblue;'\n",
    "    default = ''\n",
    "    return [highlight if e==\"Signal\" else default for e in series]\n",
    "def no_eff_pred(series):\n",
    "    highlight = 'background-color: darkred;'\n",
    "    default = ''\n",
    "    return [highlight if e==1 else default for e in series]\n",
    "df[\"nEvents_FCCee\"]=N_Z_FCCee*df[\"Visible_BF\"]\n",
    "df[\"nEvents_FCCee_err\"]=N_Z_FCCee*df[\"Visible_BF_err\"]\n",
    "df.index.name = 'Mode'\n",
    "df\n",
    "df.reset_index(inplace=True)\n",
    "df[\"nb_Ds\"]=df[\"Mode\"].str.count(\"Ds\")-df[\"Mode\"].str.count(\"Dsstar\")-df[\"Mode\"].str.count(\"Ds2\")-df[\"Mode\"].str.count(\"Dstar\")\n",
    "df[\"nb_Dsstar\"]=df[\"Mode\"].str.count(\"Dsstar\")\n",
    "df[\"nb_Ds2TauNu\"]=df[\"Mode\"].str.count(\"Ds2TauNu\")\n",
    "df[\"nb_Ds23PiPi0\"]=df[\"Mode\"].str.count(\"Ds23PiPi0\")\n",
    "df[\"nb_Ds23Pi2Pi0\"]=df[\"Mode\"].str.count(\"Ds23Pi2Pi0\")\n",
    "df[\"nb_Ds2TauNu\"][((df[\"nb_Ds\"]+df[\"nb_Dsstar\"])==2)*(df[\"nb_Ds23PiPi0\"]==0)*(df[\"nb_Ds23Pi2Pi0\"]==0)]=2\n",
    "df[\"nb_Ds23PiPi0\"][((df[\"nb_Ds\"]+df[\"nb_Dsstar\"])==2)*(df[\"nb_Ds2TauNu\"]==0)*(df[\"nb_Ds23Pi2Pi0\"]==0)]=2\n",
    "df[\"nb_Ds23Pi2Pi0\"][((df[\"nb_Ds\"]+df[\"nb_Dsstar\"])==2)*(df[\"nb_Ds23PiPi0\"]==0)*(df[\"nb_Ds2TauNu\"]==0)]=2\n",
    "#df[\"nb_decay\"]=df[\"nb_Ds2TauNu\"]+df[\"nb_Ds23PiPi0\"]+df[\"nb_Ds23Pi2Pi0\"]\n",
    "#df[\"nb_Ds+Dsstar\"]=df[\"nb_Ds\"]+df[\"nb_Dsstar\"]\n",
    "df[\"eff_pred\"]=(eff_star**df[\"nb_Dsstar\"])*(eff_Ds2TauNu**df[\"nb_Ds2TauNu\"])*(eff_Ds23PiPi0**df[\"nb_Ds23PiPi0\"])*(eff_Ds23Pi2Pi0**df[\"nb_Ds23Pi2Pi0\"])\n",
    "df[\"eff_pred\"][df[\"Mode\"]==\"Signal\"]=0.313\n",
    "df[\"eff_pred\"][df[\"Mode\"]==\"Bs2KstarDTauNu_D23PiPi0\"]=df[\"eff_pred\"][df[\"Mode\"]==\"Bd2KstarDsTauNu_Ds23Pi2Pi0\"].values\n",
    "df[\"eff_pred\"][df[\"Mode\"]==\"Bs2KstarDstarTauNu_Dstar2DPi0_D23PiPi0\"]=df[\"eff_pred\"][df[\"Mode\"]==\"Bd2KstarDsTauNu_Ds23Pi2Pi0\"].values\n",
    "df[\"eff_pred\"][df[\"Mode\"]==\"Bs2KstarDstarTauNu_Dstar2D0Pi_D024PiPi0\"]=df[\"eff_pred\"][df[\"Mode\"]==\"Bd2KstarDsTauNu_Ds23Pi2Pi0\"].values\n",
    "df[\"Visible_BF*eff\"]=df[\"Visible_BF\"]*df[\"eff_pred\"]\n",
    "format_dict = {'Visible_BF': '{:.2E}', 'Visible_BF_err': '{:.2E}','nEvents_FCCee': '{:.2E}','nEvents_FCCee_err': '{:.2E}', 'Visible_BF*eff': '{:2E}'}\n",
    "#df.columns=[\"Mode\",\"Visible_BF\",\"Visible_BF_err\"]\n",
    "df=df.drop(['Visible_BF_err','nEvents_FCCee','nEvents_FCCee_err','nb_Ds','nb_Dsstar','nb_Ds2TauNu','nb_Ds23PiPi0','nb_Ds23Pi2Pi0'],axis=1)\n",
    "(df.sort_values(\"Visible_BF*eff\",ascending=False)\n",
    ".style\n",
    ".apply(b2cTauNu_bkgs, axis=0, subset=['Mode'])\n",
    ".apply(is_sig, axis=0, subset=['Mode'])\n",
    ".apply(no_eff_pred, axis=0, subset=['eff_pred'])\n",
    "#.apply(over_threshold, axis=0, subset=['Visible_BF'])\n",
    ".format(format_dict)\n",
    ")"
   ]
  },
  {
   "cell_type": "markdown",
   "metadata": {},
   "source": [
    "Cells to export nice latex table from this one:"
   ]
  },
  {
   "cell_type": "code",
   "execution_count": 7,
   "metadata": {},
   "outputs": [],
   "source": [
    "df1=df.sort_values(\"Visible_BF*eff\",ascending=False)"
   ]
  },
  {
   "cell_type": "code",
   "execution_count": 8,
   "metadata": {},
   "outputs": [],
   "source": [
    "df1.columns=[\"Mode\", r\"$\\rm{BF_{had}}$\", r\"$\\varepsilon_{\\rm{pred}}$\",r\"$\\rm{BF_{had}}\\times\\varepsilon_{\\rm{pred}}$\"]\n",
    "\n",
    "df1[\"Mode\"]=df1[\"Mode\"].str.replace(\"Bd2KstarDsstarDs_Ds2TauNu_Ds23Pi2Pi0\", r\"$B_d^0\\to K^{*0}D_s^*D_s(D_s\\to \\\\tau\\\\nu/3\\\\pi2\\\\pi^0)$\")\n",
    "df1[\"Mode\"]=df1[\"Mode\"].str.replace(\"Bd2KstarDsstarDsstar_Ds2TauNu_Ds23Pi2Pi0\", r\"$B_d^0\\to K^{*0}D_s^*D_s^*(D_s\\to\\\\tau\\\\nu/3\\\\pi2\\\\pi^0)$\")\n",
    "df1[\"Mode\"]=df1[\"Mode\"].str.replace(\"Bd2KstarDsDs_Ds2TauNu_Ds23Pi2Pi0\", r\"$B_d^0\\to K^{*0}D_sD_s(D_s\\to \\\\tau\\\\nu/3\\\\pi2\\\\pi^0)$\")\n",
    "\n",
    "df1[\"Mode\"]=df1[\"Mode\"].str.replace(\"Bd2KstarDsstarDs_Ds2TauNu_Ds23PiPi0\", r\"$B_d^0\\to K^{*0}D_s^*D_s(D_s\\to \\\\tau\\\\nu/3\\\\pi\\\\pi^0)$\")\n",
    "df1[\"Mode\"]=df1[\"Mode\"].str.replace(\"Bd2KstarDsstarDsstar_Ds2TauNu_Ds23PiPi0\", r\"$B_d^0\\to K^{*0}D_s^*D_s^*(D_s\\to\\\\tau\\\\nu/3\\\\pi\\\\pi^0)$\")\n",
    "df1[\"Mode\"]=df1[\"Mode\"].str.replace(\"Bd2KstarDsDs_Ds2TauNu_Ds23PiPi0\", r\"$B_d^0\\to K^{*0}D_sD_s(D_s\\to \\\\tau\\\\nu/3\\\\pi\\\\pi^0)$\")\n",
    "\n",
    "df1[\"Mode\"]=df1[\"Mode\"].str.replace(\"Bd2KstarDsstarDs_Ds23PiPi0_Ds23Pi2Pi0\", r\"$B_d^0\\to K^{*0}D_s^*D_s(D_s\\to 3\\\\pi\\\\pi^0/3\\\\pi2\\\\pi^0)$\")\n",
    "df1[\"Mode\"]=df1[\"Mode\"].str.replace(\"Bd2KstarDsstarDsstar_Ds23PiPi0_Ds23Pi2Pi0\", r\"$B_d^0\\to K^{*0}D_s^*D_s^*(D_s\\to3\\\\pi\\\\pi^0/3\\\\pi2\\\\pi^0)$\")\n",
    "df1[\"Mode\"]=df1[\"Mode\"].str.replace(\"Bd2KstarDsDs_Ds23PiPi0_Ds23Pi2Pi0\", r\"$B_d^0\\to K^{*0}D_sD_s(D_s\\to 3\\\\pi\\\\pi^0/3\\\\pi2\\\\pi^0)$\")\n",
    "\n",
    "df1[\"Mode\"]=df1[\"Mode\"].str.replace(\"Bd2KstarDsstarDs_Ds23Pi2Pi0\", r\"$B_d^0\\to K^{*0}D_s^*D_s(D_s\\to 3\\\\pi2\\\\pi^0)$\")\n",
    "df1[\"Mode\"]=df1[\"Mode\"].str.replace(\"Bd2KstarDsstarDsstar_Ds23Pi2Pi0\", r\"$B_d^0\\to K^{*0}D_s^*D_s^*(D_s\\to 3\\\\pi2\\\\pi^0)$\")\n",
    "df1[\"Mode\"]=df1[\"Mode\"].str.replace(\"Bd2KstarDsDs_Ds23Pi2Pi0\", r\"$B_d^0\\to K^{*0}D_sD_s(D_s\\to 3\\\\pi2\\\\pi^0)$\")\n",
    "\n",
    "df1[\"Mode\"]=df1[\"Mode\"].str.replace(\"Bd2KstarDsstarDs_Ds23PiPi0\", r\"$B_d^0\\to K^{*0}D_s^*D_s(D_s\\to 3\\\\pi\\\\pi^0)$\")\n",
    "df1[\"Mode\"]=df1[\"Mode\"].str.replace(\"Bd2KstarDsstarDsstar_Ds23PiPi0\", r\"$B_d^0\\to K^{*0}D_s^*D_s^*(D_s\\to 3\\\\pi\\\\pi^0)$\")\n",
    "df1[\"Mode\"]=df1[\"Mode\"].str.replace(\"Bd2KstarDsDs_Ds23PiPi0\", r\"$B_d^0\\to K^{*0}D_sD_s(D_s\\to 3\\\\pi\\\\pi^0)$\")\n",
    "\n",
    "df1[\"Mode\"]=df1[\"Mode\"].str.replace(\"Bd2KstarDsstarDs_Ds2TauNu\", r\"$B_d^0\\to K^{*0}D_s^*D_s(D_s\\to \\\\tau\\\\nu)$\")\n",
    "df1[\"Mode\"]=df1[\"Mode\"].str.replace(\"Bd2KstarDsstarDsstar_Ds2TauNu\", r\"$B_d^0\\to K^{*0}D_s^*D_s^*(D_s\\to\\\\tau\\\\nu)$\")\n",
    "df1[\"Mode\"]=df1[\"Mode\"].str.replace(\"Bd2KstarDsDs_Ds2TauNu\", r\"$B_d^0\\to K^{*0}D_sD_s(D_s\\to \\\\tau\\\\nu)$\")\n",
    "\n",
    "df1[\"Mode\"]=df1[\"Mode\"].str.replace(\"Bd2KstarDsstarTauNu_Ds23Pi2Pi0\", r\"$B_d^0\\to K^{*0}D_s^*\\\\tau\\\\nu(D_s\\to 3\\\\pi2\\\\pi^0)$\")\n",
    "df1[\"Mode\"]=df1[\"Mode\"].str.replace(\"Bd2KstarDsTauNu_Ds23Pi2Pi0\", r\"$B_d^0\\to K^{*0}D_s\\\\tau\\\\nu(D_s\\to 3\\\\pi2\\\\pi^0)$\")\n",
    "df1[\"Mode\"]=df1[\"Mode\"].str.replace(\"Bd2KstarDsstarTauNu_Ds2TauNu\", r\"$B_d^0\\to K^{*0}D_s^*\\\\tau\\\\nu(D_s\\to \\\\tau\\\\nu)$\")\n",
    "df1[\"Mode\"]=df1[\"Mode\"].str.replace(\"Bd2KstarDsTauNu_Ds2TauNu\", r\"$B_d^0\\to K^{*0}D_s\\\\tau\\\\nu(D_s\\to \\\\tau\\\\nu)$\")\n",
    "df1[\"Mode\"]=df1[\"Mode\"].str.replace(\"Bd2KstarDsstarTauNu_Ds23PiPi0\", r\"$B_d^0\\to K^{*0}D_s^*\\\\tau\\\\nu(D_s\\to 3\\\\pi\\\\pi^0)$\")\n",
    "df1[\"Mode\"]=df1[\"Mode\"].str.replace(\"Bd2KstarDsTauNu_Ds23PiPi0\", r\"$B_d^0\\to K^{*0}D_s\\\\tau\\\\nu(D_s\\to 3\\\\pi\\\\pi^0)$\")\n",
    "\n",
    "df1[\"Mode\"]=df1[\"Mode\"].str.replace(\"Bs2KstarDTauNu_D23PiPi0\", r\"$B_s^0\\to K^{*0}D\\\\tau\\\\nu(D\\to 3\\\\pi\\\\pi^0)$\")\n",
    "df1[\"Mode\"]=df1[\"Mode\"].str.replace(\"Bs2KstarDstarTauNu_Dstar2DPi0_D23PiPi0\", r\"$B_s^0\\to K^{*0}D^*\\\\tau\\\\nu(D^*\\to D\\\\pi^0,D\\to3\\\\pi\\\\pi^0)$\")\n",
    "df1[\"Mode\"]=df1[\"Mode\"].str.replace(\"Bs2KstarDstarTauNu_Dstar2D0Pi_D024PiPi0\", r\"$B_s^0\\to K^{*0}D^*\\\\tau\\\\nu(D^*\\to D^0\\\\pi,D^0\\to4\\\\pi\\\\pi^0)$\")\n",
    "df1.loc[:, r\"$\\varepsilon_{\\rm{pred}}$\"] = df1[r\"$\\varepsilon_{\\rm{pred}}$\"].map('{:,.6f}'.format)"
   ]
  },
  {
   "cell_type": "code",
   "execution_count": 9,
   "metadata": {},
   "outputs": [
    {
     "data": {
      "text/html": [
       "<div>\n",
       "<style scoped>\n",
       "    .dataframe tbody tr th:only-of-type {\n",
       "        vertical-align: middle;\n",
       "    }\n",
       "\n",
       "    .dataframe tbody tr th {\n",
       "        vertical-align: top;\n",
       "    }\n",
       "\n",
       "    .dataframe thead th {\n",
       "        text-align: right;\n",
       "    }\n",
       "</style>\n",
       "<table border=\"1\" class=\"dataframe\">\n",
       "  <thead>\n",
       "    <tr style=\"text-align: right;\">\n",
       "      <th></th>\n",
       "      <th>Mode</th>\n",
       "      <th>$\\rm{BF_{had}}$</th>\n",
       "      <th>$\\varepsilon_{\\rm{pred}}$</th>\n",
       "      <th>$\\rm{BF_{had}}\\times\\varepsilon_{\\rm{pred}}$</th>\n",
       "    </tr>\n",
       "  </thead>\n",
       "  <tbody>\n",
       "    <tr>\n",
       "      <th>9</th>\n",
       "      <td>$B_d^0\\to K^{*0}D_s^*D_s(D_s\\to 3\\pi2\\pi^0)$</td>\n",
       "      <td>3.22E-08</td>\n",
       "      <td>0.115393</td>\n",
       "      <td>3.71E-09</td>\n",
       "    </tr>\n",
       "    <tr>\n",
       "      <th>15</th>\n",
       "      <td>$B_d^0\\to K^{*0}D_s^*D_s^*(D_s\\to 3\\pi2\\pi^0)$</td>\n",
       "      <td>3.33E-08</td>\n",
       "      <td>0.069715</td>\n",
       "      <td>2.32E-09</td>\n",
       "    </tr>\n",
       "    <tr>\n",
       "      <th>27</th>\n",
       "      <td>$B_d^0\\to K^{*0}D_s^*\\tau\\nu(D_s\\to 3\\pi2\\pi^0)$</td>\n",
       "      <td>7.51E-09</td>\n",
       "      <td>0.264036</td>\n",
       "      <td>1.98E-09</td>\n",
       "    </tr>\n",
       "    <tr>\n",
       "      <th>3</th>\n",
       "      <td>$B_d^0\\to K^{*0}D_sD_s(D_s\\to 3\\pi2\\pi^0)$</td>\n",
       "      <td>1.02E-08</td>\n",
       "      <td>0.191000</td>\n",
       "      <td>1.94E-09</td>\n",
       "    </tr>\n",
       "    <tr>\n",
       "      <th>24</th>\n",
       "      <td>$B_d^0\\to K^{*0}D_s\\tau\\nu(D_s\\to 3\\pi2\\pi^0)$</td>\n",
       "      <td>3.39E-09</td>\n",
       "      <td>0.437035</td>\n",
       "      <td>1.48E-09</td>\n",
       "    </tr>\n",
       "    <tr>\n",
       "      <th>19</th>\n",
       "      <td>$B_s^0\\to K^{*0}D\\tau\\nu(D\\to 3\\pi\\pi^0)$</td>\n",
       "      <td>1.65E-09</td>\n",
       "      <td>0.437035</td>\n",
       "      <td>7.23E-10</td>\n",
       "    </tr>\n",
       "    <tr>\n",
       "      <th>20</th>\n",
       "      <td>$B_s^0\\to K^{*0}D^*\\tau\\nu(D^*\\to D\\pi^0,D\\to3\\pi\\pi^0)$</td>\n",
       "      <td>1.12E-09</td>\n",
       "      <td>0.437035</td>\n",
       "      <td>4.92E-10</td>\n",
       "    </tr>\n",
       "    <tr>\n",
       "      <th>21</th>\n",
       "      <td>$B_s^0\\to K^{*0}D^*\\tau\\nu(D^*\\to D^0\\pi,D^0\\to4\\pi\\pi^0)$</td>\n",
       "      <td>8.98E-10</td>\n",
       "      <td>0.437035</td>\n",
       "      <td>3.93E-10</td>\n",
       "    </tr>\n",
       "    <tr>\n",
       "      <th>11</th>\n",
       "      <td>$B_d^0\\to K^{*0}D_s^*D_s(D_s\\to \\tau\\nu/3\\pi2\\pi^0)$</td>\n",
       "      <td>3.41E-09</td>\n",
       "      <td>0.083912</td>\n",
       "      <td>2.86E-10</td>\n",
       "    </tr>\n",
       "    <tr>\n",
       "      <th>17</th>\n",
       "      <td>$B_d^0\\to K^{*0}D_s^*D_s^*(D_s\\to\\tau\\nu/3\\pi2\\pi^0)$</td>\n",
       "      <td>3.52E-09</td>\n",
       "      <td>0.050696</td>\n",
       "      <td>1.79E-10</td>\n",
       "    </tr>\n",
       "    <tr>\n",
       "      <th>25</th>\n",
       "      <td>$B_d^0\\to K^{*0}D_s^*\\tau\\nu(D_s\\to \\tau\\nu)$</td>\n",
       "      <td>7.95E-10</td>\n",
       "      <td>0.192003</td>\n",
       "      <td>1.53E-10</td>\n",
       "    </tr>\n",
       "    <tr>\n",
       "      <th>5</th>\n",
       "      <td>$B_d^0\\to K^{*0}D_sD_s(D_s\\to \\tau\\nu/3\\pi2\\pi^0)$</td>\n",
       "      <td>1.08E-09</td>\n",
       "      <td>0.138892</td>\n",
       "      <td>1.50E-10</td>\n",
       "    </tr>\n",
       "    <tr>\n",
       "      <th>22</th>\n",
       "      <td>$B_d^0\\to K^{*0}D_s\\tau\\nu(D_s\\to \\tau\\nu)$</td>\n",
       "      <td>3.59E-10</td>\n",
       "      <td>0.317805</td>\n",
       "      <td>1.14E-10</td>\n",
       "    </tr>\n",
       "    <tr>\n",
       "      <th>12</th>\n",
       "      <td>$B_d^0\\to K^{*0}D_s^*D_s(D_s\\to 3\\pi\\pi^0/3\\pi2\\pi^0)$</td>\n",
       "      <td>3.84E-09</td>\n",
       "      <td>0.018670</td>\n",
       "      <td>7.16E-11</td>\n",
       "    </tr>\n",
       "    <tr>\n",
       "      <th>18</th>\n",
       "      <td>$B_d^0\\to K^{*0}D_s^*D_s^*(D_s\\to3\\pi\\pi^0/3\\pi2\\pi^0)$</td>\n",
       "      <td>3.97E-09</td>\n",
       "      <td>0.011280</td>\n",
       "      <td>4.48E-11</td>\n",
       "    </tr>\n",
       "    <tr>\n",
       "      <th>26</th>\n",
       "      <td>$B_d^0\\to K^{*0}D_s^*\\tau\\nu(D_s\\to 3\\pi\\pi^0)$</td>\n",
       "      <td>8.96E-10</td>\n",
       "      <td>0.042720</td>\n",
       "      <td>3.83E-11</td>\n",
       "    </tr>\n",
       "    <tr>\n",
       "      <th>6</th>\n",
       "      <td>$B_d^0\\to K^{*0}D_sD_s(D_s\\to 3\\pi\\pi^0/3\\pi2\\pi^0)$</td>\n",
       "      <td>1.21E-09</td>\n",
       "      <td>0.030903</td>\n",
       "      <td>3.75E-11</td>\n",
       "    </tr>\n",
       "    <tr>\n",
       "      <th>0</th>\n",
       "      <td>Signal</td>\n",
       "      <td>9.57E-11</td>\n",
       "      <td>0.313000</td>\n",
       "      <td>3.00E-11</td>\n",
       "    </tr>\n",
       "    <tr>\n",
       "      <th>23</th>\n",
       "      <td>$B_d^0\\to K^{*0}D_s\\tau\\nu(D_s\\to 3\\pi\\pi^0)$</td>\n",
       "      <td>4.05E-10</td>\n",
       "      <td>0.070711</td>\n",
       "      <td>2.86E-11</td>\n",
       "    </tr>\n",
       "    <tr>\n",
       "      <th>7</th>\n",
       "      <td>$B_d^0\\to K^{*0}D_s^*D_s(D_s\\to \\tau\\nu)$</td>\n",
       "      <td>3.60E-10</td>\n",
       "      <td>0.061019</td>\n",
       "      <td>2.20E-11</td>\n",
       "    </tr>\n",
       "    <tr>\n",
       "      <th>13</th>\n",
       "      <td>$B_d^0\\to K^{*0}D_s^*D_s^*(D_s\\to\\tau\\nu)$</td>\n",
       "      <td>3.73E-10</td>\n",
       "      <td>0.036865</td>\n",
       "      <td>1.37E-11</td>\n",
       "    </tr>\n",
       "    <tr>\n",
       "      <th>1</th>\n",
       "      <td>$B_d^0\\to K^{*0}D_sD_s(D_s\\to \\tau\\nu)$</td>\n",
       "      <td>1.14E-10</td>\n",
       "      <td>0.101000</td>\n",
       "      <td>1.15E-11</td>\n",
       "    </tr>\n",
       "    <tr>\n",
       "      <th>10</th>\n",
       "      <td>$B_d^0\\to K^{*0}D_s^*D_s(D_s\\to \\tau\\nu/3\\pi\\pi^0)$</td>\n",
       "      <td>4.06E-10</td>\n",
       "      <td>0.013577</td>\n",
       "      <td>5.51E-12</td>\n",
       "    </tr>\n",
       "    <tr>\n",
       "      <th>16</th>\n",
       "      <td>$B_d^0\\to K^{*0}D_s^*D_s^*(D_s\\to\\tau\\nu/3\\pi\\pi^0)$</td>\n",
       "      <td>4.20E-10</td>\n",
       "      <td>0.008202</td>\n",
       "      <td>3.45E-12</td>\n",
       "    </tr>\n",
       "    <tr>\n",
       "      <th>4</th>\n",
       "      <td>$B_d^0\\to K^{*0}D_sD_s(D_s\\to \\tau\\nu/3\\pi\\pi^0)$</td>\n",
       "      <td>1.28E-10</td>\n",
       "      <td>0.022472</td>\n",
       "      <td>2.89E-12</td>\n",
       "    </tr>\n",
       "    <tr>\n",
       "      <th>8</th>\n",
       "      <td>$B_d^0\\to K^{*0}D_s^*D_s(D_s\\to 3\\pi\\pi^0)$</td>\n",
       "      <td>4.57E-10</td>\n",
       "      <td>0.003021</td>\n",
       "      <td>1.38E-12</td>\n",
       "    </tr>\n",
       "    <tr>\n",
       "      <th>14</th>\n",
       "      <td>$B_d^0\\to K^{*0}D_s^*D_s^*(D_s\\to 3\\pi\\pi^0)$</td>\n",
       "      <td>4.73E-10</td>\n",
       "      <td>0.001825</td>\n",
       "      <td>8.64E-13</td>\n",
       "    </tr>\n",
       "    <tr>\n",
       "      <th>2</th>\n",
       "      <td>$B_d^0\\to K^{*0}D_sD_s(D_s\\to 3\\pi\\pi^0)$</td>\n",
       "      <td>1.45E-10</td>\n",
       "      <td>0.005000</td>\n",
       "      <td>7.23E-13</td>\n",
       "    </tr>\n",
       "  </tbody>\n",
       "</table>\n",
       "</div>"
      ],
      "text/plain": [
       "                                                          Mode  \\\n",
       "9                 $B_d^0\\to K^{*0}D_s^*D_s(D_s\\to 3\\pi2\\pi^0)$   \n",
       "15              $B_d^0\\to K^{*0}D_s^*D_s^*(D_s\\to 3\\pi2\\pi^0)$   \n",
       "27            $B_d^0\\to K^{*0}D_s^*\\tau\\nu(D_s\\to 3\\pi2\\pi^0)$   \n",
       "3                   $B_d^0\\to K^{*0}D_sD_s(D_s\\to 3\\pi2\\pi^0)$   \n",
       "24              $B_d^0\\to K^{*0}D_s\\tau\\nu(D_s\\to 3\\pi2\\pi^0)$   \n",
       "19                   $B_s^0\\to K^{*0}D\\tau\\nu(D\\to 3\\pi\\pi^0)$   \n",
       "20    $B_s^0\\to K^{*0}D^*\\tau\\nu(D^*\\to D\\pi^0,D\\to3\\pi\\pi^0)$   \n",
       "21  $B_s^0\\to K^{*0}D^*\\tau\\nu(D^*\\to D^0\\pi,D^0\\to4\\pi\\pi^0)$   \n",
       "11        $B_d^0\\to K^{*0}D_s^*D_s(D_s\\to \\tau\\nu/3\\pi2\\pi^0)$   \n",
       "17       $B_d^0\\to K^{*0}D_s^*D_s^*(D_s\\to\\tau\\nu/3\\pi2\\pi^0)$   \n",
       "25               $B_d^0\\to K^{*0}D_s^*\\tau\\nu(D_s\\to \\tau\\nu)$   \n",
       "5           $B_d^0\\to K^{*0}D_sD_s(D_s\\to \\tau\\nu/3\\pi2\\pi^0)$   \n",
       "22                 $B_d^0\\to K^{*0}D_s\\tau\\nu(D_s\\to \\tau\\nu)$   \n",
       "12      $B_d^0\\to K^{*0}D_s^*D_s(D_s\\to 3\\pi\\pi^0/3\\pi2\\pi^0)$   \n",
       "18     $B_d^0\\to K^{*0}D_s^*D_s^*(D_s\\to3\\pi\\pi^0/3\\pi2\\pi^0)$   \n",
       "26             $B_d^0\\to K^{*0}D_s^*\\tau\\nu(D_s\\to 3\\pi\\pi^0)$   \n",
       "6         $B_d^0\\to K^{*0}D_sD_s(D_s\\to 3\\pi\\pi^0/3\\pi2\\pi^0)$   \n",
       "0                                                       Signal   \n",
       "23               $B_d^0\\to K^{*0}D_s\\tau\\nu(D_s\\to 3\\pi\\pi^0)$   \n",
       "7                    $B_d^0\\to K^{*0}D_s^*D_s(D_s\\to \\tau\\nu)$   \n",
       "13                  $B_d^0\\to K^{*0}D_s^*D_s^*(D_s\\to\\tau\\nu)$   \n",
       "1                      $B_d^0\\to K^{*0}D_sD_s(D_s\\to \\tau\\nu)$   \n",
       "10         $B_d^0\\to K^{*0}D_s^*D_s(D_s\\to \\tau\\nu/3\\pi\\pi^0)$   \n",
       "16        $B_d^0\\to K^{*0}D_s^*D_s^*(D_s\\to\\tau\\nu/3\\pi\\pi^0)$   \n",
       "4            $B_d^0\\to K^{*0}D_sD_s(D_s\\to \\tau\\nu/3\\pi\\pi^0)$   \n",
       "8                  $B_d^0\\to K^{*0}D_s^*D_s(D_s\\to 3\\pi\\pi^0)$   \n",
       "14               $B_d^0\\to K^{*0}D_s^*D_s^*(D_s\\to 3\\pi\\pi^0)$   \n",
       "2                    $B_d^0\\to K^{*0}D_sD_s(D_s\\to 3\\pi\\pi^0)$   \n",
       "\n",
       "    $\\rm{BF_{had}}$ $\\varepsilon_{\\rm{pred}}$  \\\n",
       "9          3.22E-08                  0.115393   \n",
       "15         3.33E-08                  0.069715   \n",
       "27         7.51E-09                  0.264036   \n",
       "3          1.02E-08                  0.191000   \n",
       "24         3.39E-09                  0.437035   \n",
       "19         1.65E-09                  0.437035   \n",
       "20         1.12E-09                  0.437035   \n",
       "21         8.98E-10                  0.437035   \n",
       "11         3.41E-09                  0.083912   \n",
       "17         3.52E-09                  0.050696   \n",
       "25         7.95E-10                  0.192003   \n",
       "5          1.08E-09                  0.138892   \n",
       "22         3.59E-10                  0.317805   \n",
       "12         3.84E-09                  0.018670   \n",
       "18         3.97E-09                  0.011280   \n",
       "26         8.96E-10                  0.042720   \n",
       "6          1.21E-09                  0.030903   \n",
       "0          9.57E-11                  0.313000   \n",
       "23         4.05E-10                  0.070711   \n",
       "7          3.60E-10                  0.061019   \n",
       "13         3.73E-10                  0.036865   \n",
       "1          1.14E-10                  0.101000   \n",
       "10         4.06E-10                  0.013577   \n",
       "16         4.20E-10                  0.008202   \n",
       "4          1.28E-10                  0.022472   \n",
       "8          4.57E-10                  0.003021   \n",
       "14         4.73E-10                  0.001825   \n",
       "2          1.45E-10                  0.005000   \n",
       "\n",
       "    $\\rm{BF_{had}}\\times\\varepsilon_{\\rm{pred}}$  \n",
       "9                                       3.71E-09  \n",
       "15                                      2.32E-09  \n",
       "27                                      1.98E-09  \n",
       "3                                       1.94E-09  \n",
       "24                                      1.48E-09  \n",
       "19                                      7.23E-10  \n",
       "20                                      4.92E-10  \n",
       "21                                      3.93E-10  \n",
       "11                                      2.86E-10  \n",
       "17                                      1.79E-10  \n",
       "25                                      1.53E-10  \n",
       "5                                       1.50E-10  \n",
       "22                                      1.14E-10  \n",
       "12                                      7.16E-11  \n",
       "18                                      4.48E-11  \n",
       "26                                      3.83E-11  \n",
       "6                                       3.75E-11  \n",
       "0                                       3.00E-11  \n",
       "23                                      2.86E-11  \n",
       "7                                       2.20E-11  \n",
       "13                                      1.37E-11  \n",
       "1                                       1.15E-11  \n",
       "10                                      5.51E-12  \n",
       "16                                      3.45E-12  \n",
       "4                                       2.89E-12  \n",
       "8                                       1.38E-12  \n",
       "14                                      8.64E-13  \n",
       "2                                       7.23E-13  "
      ]
     },
     "execution_count": 9,
     "metadata": {},
     "output_type": "execute_result"
    }
   ],
   "source": [
    "df1"
   ]
  },
  {
   "cell_type": "code",
   "execution_count": 10,
   "metadata": {},
   "outputs": [
    {
     "name": "stderr",
     "output_type": "stream",
     "text": [
      "/var/folders/hc/7r1d6y954cscdrl_dhs2jt_w0000gn/T/ipykernel_13987/2581791357.py:2: FutureWarning: In future versions `DataFrame.to_latex` is expected to utilise the base implementation of `Styler.to_latex` for formatting and rendering. The arguments signature may therefore change. It is recommended instead to use `DataFrame.style.to_latex` which also contains additional functionality.\n",
      "  print(df1.to_latex(index=False,escape=False,column_format=\"lccc\"), file=f)\n"
     ]
    }
   ],
   "source": [
    "with open(f'tables_txt/table_mode_BF_eff_pred.txt', \"w\") as f:\n",
    "    print(df1.to_latex(index=False,escape=False,column_format=\"lccc\"), file=f)"
   ]
  },
  {
   "attachments": {},
   "cell_type": "markdown",
   "metadata": {},
   "source": [
    "Cell to determine phase space ratio needed to estimate BF(b2cTauNu):"
   ]
  },
  {
   "cell_type": "code",
   "execution_count": 7,
   "metadata": {},
   "outputs": [
    {
     "name": "stderr",
     "output_type": "stream",
     "text": [
      "/var/folders/hc/7r1d6y954cscdrl_dhs2jt_w0000gn/T/ipykernel_2926/2383811620.py:10: RuntimeWarning: invalid value encountered in sqrt\n",
      "  return np.sqrt(E2st(sqm12,m1,m2)**2-m2**2)\n"
     ]
    },
    {
     "name": "stdout",
     "output_type": "stream",
     "text": [
      "(6.415803049468887e-07, 1.0214909123404007e-08)\n",
      "0.158203125\n",
      "(3.1017278062524936e-08, 9.059225157371479e-10)\n",
      "BF B02Kst0DsTauNu predicted : 2.9490524369675736e-05 +- 4.834512191750121e-06, paper : 3e-05, paper = predicted * 1.017275909506992 \n",
      "(6.603353132627219e-07, 1.0367822651485978e-08)\n",
      "(5.712187156588636e-08, 1.7090308911333568e-09)\n",
      "BF B0s2Kst0DTauNu predicted : 0.00023356172255251085 +- 6.055303918028058e-05, paper : 0.00046, paper = predicted * 1.969500802498063 \n"
     ]
    },
    {
     "data": {
      "image/png": "[encoded data removed]",
      "text/plain": [
       "<Figure size 1200x800 with 1 Axes>"
      ]
     },
     "metadata": {},
     "output_type": "display_data"
    },
    {
     "data": {
      "image/png": "[encoded data removed]",
      "text/plain": [
       "<Figure size 1200x800 with 1 Axes>"
      ]
     },
     "metadata": {},
     "output_type": "display_data"
    },
    {
     "data": {
      "image/png": "[encoded data removed]",
      "text/plain": [
       "<Figure size 1200x800 with 1 Axes>"
      ]
     },
     "metadata": {},
     "output_type": "display_data"
    },
    {
     "data": {
      "image/png": "[encoded data removed]",
      "text/plain": [
       "<Figure size 1200x800 with 1 Axes>"
      ]
     },
     "metadata": {},
     "output_type": "display_data"
    }
   ],
   "source": [
    "#needed function\n",
    "\n",
    "def E2st(sqm12,m1,m2):#E2 in 12 rest frame\n",
    "    return (sqm12-m1**2+m2**2)/(2*sqm12**0.5)\n",
    "\n",
    "def E3st(sqm12,M,m3):#E3 in 12 rest frame\n",
    "    return (-sqm12-m3**2+M**2)/(2*sqm12**0.5)\n",
    "\n",
    "def p2st(sqm12,m1,m2):#p2 in 12 rest frame\n",
    "    return np.sqrt(E2st(sqm12,m1,m2)**2-m2**2)\n",
    "\n",
    "def p3st(sqm12,M,m3):#p3 in 12 rest frame\n",
    "    return np.sqrt(E3st(sqm12,M,m3)**2-m3**2)\n",
    "\n",
    "def sq_m23_max(sqm12,m1,m2,M,m3):#m23 squared max as function of sqm12 definition\n",
    "    return (E2st(sqm12,m1,m2)+E3st(sqm12,M,m3))**2-(p2st(sqm12,m1,m2)-p3st(sqm12,M,m3))**2\n",
    "\n",
    "def sq_m23_min(sqm12,m1,m2,M,m3):#m23 squared min as function of sqm12 definition\n",
    "    return (E2st(sqm12,m1,m2)+E3st(sqm12,M,m3))**2-(p2st(sqm12,m1,m2)+p3st(sqm12,M,m3))**2\n",
    "\n",
    "def dPS(sqm12,m1,m2,M,m3):#phase space element as function of sqm12\n",
    "    return ((np.pi**2)/(2*np.pi)**9)*(1/(4*M**2))*(sq_m23_max(sqm12,m1,m2,M,m3)-sq_m23_min(sqm12,m1,m2,M,m3))\n",
    "\n",
    "def sq_m12_min(m1,m2):#sqm12 min\n",
    "    return (m1+m2)**2\n",
    "\n",
    "def sq_m12_max(M,m3):#sqm12 max\n",
    "    return (M-m3)**2\n",
    "\n",
    "#mass in GeV\n",
    "m_K=0.493677\n",
    "m_Kst0=0.89555\n",
    "m_Ds=1.96835\n",
    "m_D=1.86966\n",
    "m_Ds1=0.49761+2.01026\n",
    "m_e=511e-6\n",
    "m_mu=0.10566\n",
    "m_tau=1.77686\n",
    "m_nu=0\n",
    "m_Bp=5.27934\n",
    "m_B0=5.27966\n",
    "m_B0s=5.36692\n",
    "m_KDs=m_K+m_Ds\n",
    "\n",
    "#computation of BF B02Kst0DsTauNu\n",
    "sq_m12_range=np.linspace(sq_m12_min(m_KDs,m_mu),sq_m12_max(m_Bp,m_nu),1000)\n",
    "plt.figure(figsize=(12,8))\n",
    "plt.plot(sq_m12_range, dPS(sq_m12_range,m_KDs,m_mu,m_Bp,m_nu))\n",
    "plt.title(\"PS($m_{12}^{2}$) for Bp2KDsTauNu\")\n",
    "plt.xlabel(\"$m_{12}^{2}$ GeV$^2$\")\n",
    "\n",
    "PS_Bp2KDsMuNu=quad(dPS,sq_m12_min(m_KDs,m_mu),sq_m12_max(m_Bp,m_nu),args=(m_KDs,m_mu,m_Bp,m_nu))\n",
    "\n",
    "print(PS_Bp2KDsMuNu)\n",
    "print(0.75**4/2)\n",
    "m_Kst0Ds=m_Kst0+m_Ds\n",
    "\n",
    "sq_m12_range=np.linspace(sq_m12_min(m_Kst0Ds,m_tau),sq_m12_max(m_B0,m_nu),1000)\n",
    "plt.figure(figsize=(12,8))\n",
    "plt.plot(sq_m12_range, dPS(sq_m12_range,m_Kst0Ds,m_tau,m_B0,m_nu))\n",
    "plt.title(\"PS($m_{12}^{2}$) for B02Kst0DsTauNu\")\n",
    "plt.xlabel(\"$m_{12}^{2}$ GeV$^2$\")\n",
    "\n",
    "PS_B02Kst0DsTauNu=quad(dPS,sq_m12_min(m_Kst0Ds,m_tau),sq_m12_max(m_B0,m_nu),args=(m_Kst0Ds,m_tau,m_B0,m_nu))\n",
    "\n",
    "print(PS_B02Kst0DsTauNu)\n",
    "\n",
    "BF_Bp2KDsMuNu=6.1e-4\n",
    "BF_Bp2KDsMuNu_err=1e-4\n",
    "\n",
    "BF_B02Kst0DsTauNu=BF_Bp2KDsMuNu*(PS_B02Kst0DsTauNu[0]/PS_Bp2KDsMuNu[0])#*0.75**4/2\n",
    "BF_B02Kst0DsTauNu_err=BF_Bp2KDsMuNu_err*(PS_B02Kst0DsTauNu[0]/PS_Bp2KDsMuNu[0])#*0.75**4/2\n",
    "BF_B02Kst0DsTauNu_paper=3.0e-5\n",
    "print(f\"BF B02Kst0DsTauNu predicted : {BF_B02Kst0DsTauNu} +- {BF_B02Kst0DsTauNu_err}, paper : {BF_B02Kst0DsTauNu_paper}, paper = predicted * {BF_B02Kst0DsTauNu_paper/BF_B02Kst0DsTauNu} \")\n",
    "\n",
    "#computation of BF_B0s2Kst0DTauNu\n",
    "sq_m12_range=np.linspace(sq_m12_min(m_Ds1,m_mu),sq_m12_max(m_B0s,m_nu),1000)\n",
    "plt.figure(figsize=(12,8))\n",
    "plt.plot(sq_m12_range, dPS(sq_m12_range,m_Ds1,m_mu,m_B0s,m_nu))\n",
    "plt.title(\"PS($m_{12}^{2}$) for B0s2Ds1MuNu\")\n",
    "plt.xlabel(\"$m_{12}^{2}$ GeV$^2$\")\n",
    "\n",
    "PS_B0s2Ds1MuNu=quad(dPS,sq_m12_min(m_Ds1,m_mu),sq_m12_max(m_B0s,m_nu),args=(m_Ds1,m_mu,m_B0s,m_nu))\n",
    "\n",
    "print(PS_B0s2Ds1MuNu)\n",
    "\n",
    "m_Kst0D=m_Kst0+m_D\n",
    "\n",
    "sq_m12_range=np.linspace(sq_m12_min(m_Kst0D,m_tau),sq_m12_max(m_B0s,m_nu),1000)\n",
    "plt.figure(figsize=(12,8))\n",
    "plt.plot(sq_m12_range, dPS(sq_m12_range,m_Kst0D,m_tau,m_B0s,m_nu))\n",
    "plt.title(\"PS($m_{12}^{2}$) for B0s2Kst0DTauNu\")\n",
    "plt.xlabel(\"$m_{12}^{2}$ GeV$^2$\")\n",
    "\n",
    "PS_B0s2Kst0DTauNu=quad(dPS,sq_m12_min(m_Kst0D,m_tau),sq_m12_max(m_B0s,m_nu),args=(m_Kst0D,m_tau,m_B0s,m_nu))\n",
    "\n",
    "print(PS_B0s2Kst0DTauNu)\n",
    "\n",
    "BF_B0s2Ds1MuNu=2.7e-3\n",
    "BF_B0s2Ds1MuNu_err=0.7e-3\n",
    "\n",
    "BF_B0s2Kst0DTauNu=BF_B0s2Ds1MuNu*(PS_B0s2Kst0DTauNu[0]/PS_B0s2Ds1MuNu[0])#*0.75**4/2\n",
    "BF_B0s2Kst0DTauNu_err=BF_B0s2Ds1MuNu_err*(PS_B0s2Kst0DTauNu[0]/PS_B0s2Ds1MuNu[0])#*0.75**4/2\n",
    "BF_B0s2Kst0DTauNu_paper=4.6e-4\n",
    "print(f\"BF B0s2Kst0DTauNu predicted : {BF_B0s2Kst0DTauNu} +- {BF_B0s2Kst0DTauNu_err}, paper : {BF_B0s2Kst0DTauNu_paper}, paper = predicted * {BF_B0s2Kst0DTauNu_paper/BF_B0s2Kst0DTauNu} \")"
   ]
  },
  {
   "attachments": {},
   "cell_type": "markdown",
   "metadata": {},
   "source": [
    "Plot theoritical DP:"
   ]
  },
  {
   "cell_type": "code",
   "execution_count": 8,
   "metadata": {},
   "outputs": [
    {
     "name": "stderr",
     "output_type": "stream",
     "text": [
      "/var/folders/hc/7r1d6y954cscdrl_dhs2jt_w0000gn/T/ipykernel_2926/2383811620.py:4: RuntimeWarning: divide by zero encountered in divide\n",
      "  return (sqm12-m1**2+m2**2)/(2*sqm12**0.5)\n",
      "/var/folders/hc/7r1d6y954cscdrl_dhs2jt_w0000gn/T/ipykernel_2926/2383811620.py:7: RuntimeWarning: divide by zero encountered in divide\n",
      "  return (-sqm12-m3**2+M**2)/(2*sqm12**0.5)\n",
      "/var/folders/hc/7r1d6y954cscdrl_dhs2jt_w0000gn/T/ipykernel_2926/2383811620.py:19: RuntimeWarning: invalid value encountered in add\n",
      "  return (E2st(sqm12,m1,m2)+E3st(sqm12,M,m3))**2-(p2st(sqm12,m1,m2)+p3st(sqm12,M,m3))**2\n",
      "/var/folders/hc/7r1d6y954cscdrl_dhs2jt_w0000gn/T/ipykernel_2926/2383811620.py:10: RuntimeWarning: invalid value encountered in sqrt\n",
      "  return np.sqrt(E2st(sqm12,m1,m2)**2-m2**2)\n",
      "/var/folders/hc/7r1d6y954cscdrl_dhs2jt_w0000gn/T/ipykernel_2926/2383811620.py:16: RuntimeWarning: invalid value encountered in add\n",
      "  return (E2st(sqm12,m1,m2)+E3st(sqm12,M,m3))**2-(p2st(sqm12,m1,m2)-p3st(sqm12,M,m3))**2\n",
      "/var/folders/hc/7r1d6y954cscdrl_dhs2jt_w0000gn/T/ipykernel_2926/2383811620.py:16: RuntimeWarning: invalid value encountered in subtract\n",
      "  return (E2st(sqm12,m1,m2)+E3st(sqm12,M,m3))**2-(p2st(sqm12,m1,m2)-p3st(sqm12,M,m3))**2\n"
     ]
    },
    {
     "data": {
      "text/plain": [
       "'print(sq_m12_grid)\\nprint(sq_m23_min(5.94,m1,m2,M,m3))\\nprint(sq_m23_max(5.94,m1,m2,M,m3))\\nprint(sq_m23_grid>sq_m23_min(sq_m12_grid,m1,m2,M,m3))\\nprint(sq_m23_grid<sq_m23_max(sq_m12_grid,m1,m2,M,m3))\\nprint(sq_m23_max(sq_m12_grid,m1,m2,M,m3))\\nprint(sq_m23_min(sq_m12_grid,m1,m2,M,m3))'"
      ]
     },
     "execution_count": 8,
     "metadata": {},
     "output_type": "execute_result"
    },
    {
     "data": {
      "image/png": "[encoded data removed]",
      "text/plain": [
       "<Figure size 1200x800 with 2 Axes>"
      ]
     },
     "metadata": {},
     "output_type": "display_data"
    }
   ],
   "source": [
    "\n",
    "\"\"\"#to plot on DP PS of B02KSpipi\n",
    "M=m_B0\n",
    "m1=0.13957\n",
    "m2=0.49761\n",
    "m3=0.13957\n",
    "\"\"\"\n",
    "\n",
    "M=m_Bp\n",
    "m1=m_KDs\n",
    "m2=m_mu\n",
    "m3=m_nu\n",
    "\n",
    "sq_m12_range=np.linspace(0,sq_m12_max(M,m3)*1.1,1000)\n",
    "sq_m23_range=np.linspace(0,sq_m12_max(M,m1)*1.1,1000)\n",
    "\n",
    "sq_m12_grid, sq_m23_grid = np.meshgrid(sq_m12_range, sq_m23_range)\n",
    "\n",
    "grid_cut=sq_m12_grid>sq_m12_min(m1,m2)\n",
    "grid_cut*=sq_m12_grid<sq_m12_max(M,m3)\n",
    "#print(grid_cut)\n",
    "grid_cut*=sq_m23_grid>sq_m23_min(sq_m12_grid,m1,m2,M,m3)\n",
    "#print(grid_cut)\n",
    "grid_cut*=sq_m23_grid<sq_m23_max(sq_m12_grid,m1,m2,M,m3)\n",
    "#print(grid_cut)\n",
    "\n",
    "PS_grid=((np.pi**2)/(2*np.pi)**9)*(1/(4*M**2))*grid_cut\n",
    "plt.figure(figsize=(12,8))\n",
    "plt.pcolormesh(sq_m12_range, sq_m23_range, PS_grid,cmap=plt.cm.get_cmap('seismic'))\n",
    "plt.axis('scaled')\n",
    "plt.title('DP phase space of Bp2(KDs)MuNu')\n",
    "plt.xlabel(\"$m_{12}^{2}$ GeV$^2$\")\n",
    "plt.ylabel(\"$m_{23}^{2}$ GeV$^2$\")\n",
    "plt.colorbar()\n",
    "\n",
    "\"\"\"print(sq_m12_grid)\n",
    "print(sq_m23_min(5.94,m1,m2,M,m3))\n",
    "print(sq_m23_max(5.94,m1,m2,M,m3))\n",
    "print(sq_m23_grid>sq_m23_min(sq_m12_grid,m1,m2,M,m3))\n",
    "print(sq_m23_grid<sq_m23_max(sq_m12_grid,m1,m2,M,m3))\n",
    "print(sq_m23_max(sq_m12_grid,m1,m2,M,m3))\n",
    "print(sq_m23_min(sq_m12_grid,m1,m2,M,m3))\"\"\"\n",
    "\n",
    "\n"
   ]
  },
  {
   "attachments": {},
   "cell_type": "markdown",
   "metadata": {},
   "source": [
    "With 2D integration:"
   ]
  },
  {
   "cell_type": "code",
   "execution_count": 9,
   "metadata": {},
   "outputs": [
    {
     "name": "stdout",
     "output_type": "stream",
     "text": [
      "(6.415803049468887e-07, 1.0214909123404007e-08)\n",
      "(3.1017278062524936e-08, 9.059225157371479e-10)\n",
      "BF B02Kst0DsTauNu predicted : 2.9490524369675736e-05, paper : 3e-05, paper = predicted * 1.017275909506992 \n",
      "(6.60335313262722e-07, 1.0367822651485978e-08)\n",
      "(5.7121871565886376e-08, 1.709030891132475e-09)\n",
      "BF B02Kst0DsTauNu predicted : 0.00023356172255251085, paper : 0.00046, paper = predicted * 1.969500802498063 \n"
     ]
    }
   ],
   "source": [
    "def dPS2D(sqm12,m23,m1,m2,M,m3):#phase space element as function of m12\n",
    "    return ((np.pi**2)/(2*np.pi)**9)*(1/(4*M**2))#(sq_m23_max(m12,m1,m2,M,m3)-sq_m23_min(m12,m1,m2,M,m3))\n",
    "\n",
    "def lim_m23(sqm12,m1,m2,M,m3):\n",
    "    return [sq_m23_min(sqm12,m1,m2,M,m3), sq_m23_max(sqm12,m1,m2,M,m3)]\n",
    "def lim_m12(m1,m2,M,m3):\n",
    "    return [sq_m12_min(m1,m2), sq_m12_max(M,m3)]\n",
    "\n",
    "m_KDs=m_K+m_Ds\n",
    "PS_Bp2KDsMuNu = nquad(dPS2D,[lim_m23, lim_m12], args=(m_KDs,m_mu,m_Bp,m_nu))\n",
    "print(PS_Bp2KDsMuNu)\n",
    "\n",
    "m_Kst0Ds=m_Kst0+m_Ds\n",
    "PS_B02Kst0DsTauNu = nquad(dPS2D,[lim_m23, lim_m12], args=(m_Kst0Ds,m_tau,m_B0,m_nu))\n",
    "print(PS_B02Kst0DsTauNu)\n",
    "\n",
    "\n",
    "BF_B02Kst0DsTauNu=BF_Bp2KDsMuNu*(PS_B02Kst0DsTauNu[0]/PS_Bp2KDsMuNu[0])\n",
    "\n",
    "print(f\"BF B02Kst0DsTauNu predicted : {BF_B02Kst0DsTauNu}, paper : {BF_B02Kst0DsTauNu_paper}, paper = predicted * {BF_B02Kst0DsTauNu_paper/BF_B02Kst0DsTauNu} \")\n",
    "\n",
    "\n",
    "PS_B0s2Ds1MuNu = nquad(dPS2D,[lim_m23, lim_m12], args=(m_Ds1,m_mu,m_B0s,m_nu))\n",
    "print(PS_B0s2Ds1MuNu)\n",
    "\n",
    "m_Kst0D=m_Kst0+m_D\n",
    "PS_B0s2Kst0DTauNu = nquad(dPS2D,[lim_m23, lim_m12], args=(m_Kst0D,m_tau,m_B0s,m_nu))\n",
    "print(PS_B0s2Kst0DTauNu)\n",
    "\n",
    "BF_B0s2Kst0DTauNu=BF_B0s2Ds1MuNu*(PS_B0s2Kst0DTauNu[0]/PS_B0s2Ds1MuNu[0])\n",
    "\n",
    "print(f\"BF B02Kst0DsTauNu predicted : {BF_B0s2Kst0DTauNu}, paper : {BF_B0s2Kst0DTauNu_paper}, paper = predicted * {BF_B0s2Kst0DTauNu_paper/BF_B0s2Kst0DTauNu} \")"
   ]
  },
  {
   "attachments": {},
   "cell_type": "markdown",
   "metadata": {},
   "source": [
    "#verification : compatible with by hand rectangle integration\n",
    "\n",
    "def rectintPS(min, max, nb_rec,m1,m2,M,m3):\n",
    "    I=0\n",
    "\n",
    "    i=(max-min)/nb_rec\n",
    "    trailing_x=min\n",
    "    leading_x=min+i\n",
    "\n",
    "    while (min<=leading_x<=max) or (min>=leading_x>=max):\n",
    "        area=dPS((trailing_x+leading_x)/2,m1,m2,M,m3)*i\n",
    "        I+=area\n",
    "\n",
    "        leading_x+=i\n",
    "        trailing_x+=i\n",
    "\n",
    "    return I\n",
    "\n",
    "print(rectintPS(sq_m12_min(m_Kst0Ds,m_tau),sq_m12_max(m_B0,m_nu),1000,m_Kst0Ds,m_tau,m_B0,m_nu))"
   ]
  },
  {
   "attachments": {},
   "cell_type": "markdown",
   "metadata": {},
   "source": [
    "def f(x,a):\n",
    "    return a*x+np.sin(x)\n",
    "\n",
    "x=np.linspace(0,2*np.pi,100)\n",
    "plt.figure(figsize=(12,8))\n",
    "plt.plot(x, f(x,2))\n",
    "\n",
    "I=quad(f,0,2*np.pi,args=(2))\n",
    "print(I)\n",
    "print(4*np.pi**2)"
   ]
  },
  {
   "cell_type": "code",
   "execution_count": 3,
   "metadata": {},
   "outputs": [
    {
     "data": {
      "text/plain": [
       "0.002066045454545454"
      ]
     },
     "execution_count": 3,
     "metadata": {},
     "output_type": "execute_result"
    }
   ],
   "source": [
    "2.78*10**(-4)*(0.0044+0.0139+0.0144)/0.0044\n"
   ]
  },
  {
   "cell_type": "code",
   "execution_count": 4,
   "metadata": {},
   "outputs": [
    {
     "data": {
      "text/plain": [
       "0.0002782470119521913"
      ]
     },
     "execution_count": 4,
     "metadata": {},
     "output_type": "execute_result"
    }
   ],
   "source": [
    "7.2*10**(-3)*((9.7*10**(-5))/(2.51*10**(-3)))"
   ]
  },
  {
   "cell_type": "code",
   "execution_count": 5,
   "metadata": {},
   "outputs": [
    {
     "data": {
      "text/plain": [
       "5.1451367442153045e-05"
      ]
     },
     "execution_count": 5,
     "metadata": {},
     "output_type": "execute_result"
    }
   ],
   "source": [
    "(7.2*10**(-3)*((9.7*10**(-5))/(2.51*10**(-3))))*((0.8/7.2)**2+(0.08/2.51)**2+(1.4/9.7)**2)**0.5"
   ]
  },
  {
   "cell_type": "code",
   "execution_count": 6,
   "metadata": {},
   "outputs": [
    {
     "data": {
      "text/plain": [
       "0.0327"
      ]
     },
     "execution_count": 6,
     "metadata": {},
     "output_type": "execute_result"
    }
   ],
   "source": [
    "0.0044+0.0139+0.0144"
   ]
  },
  {
   "cell_type": "code",
   "execution_count": 9,
   "metadata": {},
   "outputs": [
    {
     "data": {
      "text/plain": [
       "0.002747726332806817"
      ]
     },
     "execution_count": 9,
     "metadata": {},
     "output_type": "execute_result"
    }
   ],
   "source": [
    "(0.0005**2+0.0017**2+0.0021**2)**0.5"
   ]
  },
  {
   "cell_type": "code",
   "execution_count": 12,
   "metadata": {},
   "outputs": [
    {
     "data": {
      "text/plain": [
       "0.0020660454545454545"
      ]
     },
     "execution_count": 12,
     "metadata": {},
     "output_type": "execute_result"
    }
   ],
   "source": [
    "0.000278*(0.0327/0.0044)"
   ]
  },
  {
   "cell_type": "code",
   "execution_count": 14,
   "metadata": {},
   "outputs": [
    {
     "data": {
      "text/plain": [
       "0.00047735743204916313"
      ]
     },
     "execution_count": 14,
     "metadata": {},
     "output_type": "execute_result"
    }
   ],
   "source": [
    "0.002066*((0.51/2.78)**(2)+(0.27/3.27)**2+(0.5/4.4)**2)**0.5"
   ]
  },
  {
   "cell_type": "code",
   "execution_count": 16,
   "metadata": {},
   "outputs": [
    {
     "data": {
      "text/plain": [
       "0.0008782079510703364"
      ]
     },
     "execution_count": 16,
     "metadata": {},
     "output_type": "execute_result"
    }
   ],
   "source": [
    "0.002066*(0.0139/0.0327)"
   ]
  },
  {
   "cell_type": "code",
   "execution_count": 18,
   "metadata": {},
   "outputs": [
    {
     "data": {
      "text/plain": [
       "0.00024132328284994656"
      ]
     },
     "execution_count": 18,
     "metadata": {},
     "output_type": "execute_result"
    }
   ],
   "source": [
    "0.000878*((0.48/2.07)**2+(0.17/1.39)**2+(0.27/3.27)**2)**0.5"
   ]
  },
  {
   "cell_type": "code",
   "execution_count": 19,
   "metadata": {},
   "outputs": [
    {
     "data": {
      "text/plain": [
       "0.0009097981651376147"
      ]
     },
     "execution_count": 19,
     "metadata": {},
     "output_type": "execute_result"
    }
   ],
   "source": [
    "0.002066*(0.0144/0.0327)"
   ]
  },
  {
   "cell_type": "code",
   "execution_count": 20,
   "metadata": {},
   "outputs": [
    {
     "data": {
      "text/plain": [
       "0.000260296920870258"
      ]
     },
     "execution_count": 20,
     "metadata": {},
     "output_type": "execute_result"
    }
   ],
   "source": [
    "0.0009098*((0.48/2.07)**2+(0.21/1.44)**2+(0.27/3.27)**2)**0.5"
   ]
  },
  {
   "cell_type": "code",
   "execution_count": 21,
   "metadata": {},
   "outputs": [
    {
     "data": {
      "text/plain": [
       "0.00558"
      ]
     },
     "execution_count": 21,
     "metadata": {},
     "output_type": "execute_result"
    }
   ],
   "source": [
    "0.0168*0.2302+0.00192*0.892"
   ]
  },
  {
   "cell_type": "code",
   "execution_count": 22,
   "metadata": {},
   "outputs": [
    {
     "data": {
      "text/plain": [
       "0.00034128865495354515"
      ]
     },
     "execution_count": 22,
     "metadata": {},
     "output_type": "execute_result"
    }
   ],
   "source": [
    "((0.2302*0.0009)**2+(0.0168*0.0025)**2+(0.892*0.0003)**2+(0.00192*0.007)**2)**0.5"
   ]
  },
  {
   "cell_type": "code",
   "execution_count": 23,
   "metadata": {},
   "outputs": [
    {
     "data": {
      "text/plain": [
       "0.046845"
      ]
     },
     "execution_count": 23,
     "metadata": {},
     "output_type": "execute_result"
    }
   ],
   "source": [
    "0.095*0.2302+0.028*0.892"
   ]
  },
  {
   "cell_type": "code",
   "execution_count": 24,
   "metadata": {},
   "outputs": [
    {
     "data": {
      "text/plain": [
       "0.006356662587396"
      ]
     },
     "execution_count": 24,
     "metadata": {},
     "output_type": "execute_result"
    }
   ],
   "source": [
    "((0.2302*0.005)**2+(0.095*0.0025)**2+(0.892*0.007)**2+(0.028*0.007)**2)**0.5"
   ]
  },
  {
   "cell_type": "code",
   "execution_count": 25,
   "metadata": {},
   "outputs": [
    {
     "data": {
      "text/plain": [
       "0.009899494936611667"
      ]
     },
     "execution_count": 25,
     "metadata": {},
     "output_type": "execute_result"
    }
   ],
   "source": [
    "(2*0.007**2)**0.5"
   ]
  },
  {
   "cell_type": "code",
   "execution_count": 3,
   "metadata": {},
   "outputs": [
    {
     "data": {
      "text/plain": [
       "0.000405776892430279"
      ]
     },
     "execution_count": 3,
     "metadata": {},
     "output_type": "execute_result"
    }
   ],
   "source": [
    "(1.05*10**(-2))*((9.7*10**(-5))/(2.51*10**(-3)))"
   ]
  },
  {
   "cell_type": "code",
   "execution_count": 2,
   "metadata": {},
   "outputs": [
    {
     "data": {
      "text/plain": [
       "712.7659574468086"
      ]
     },
     "execution_count": 2,
     "metadata": {},
     "output_type": "execute_result"
    }
   ],
   "source": [
    "6.7*10**(-3)/(9.4*10**(-6))"
   ]
  },
  {
   "cell_type": "code",
   "execution_count": 23,
   "metadata": {},
   "outputs": [
    {
     "data": {
      "text/plain": [
       "0.39923954372623577"
      ]
     },
     "execution_count": 23,
     "metadata": {},
     "output_type": "execute_result"
    }
   ],
   "source": [
    "1.05/(1.58+1.05)"
   ]
  },
  {
   "cell_type": "code",
   "execution_count": 22,
   "metadata": {},
   "outputs": [
    {
     "data": {
      "text/plain": [
       "0.31343283582089554"
      ]
     },
     "execution_count": 22,
     "metadata": {},
     "output_type": "execute_result"
    }
   ],
   "source": [
    "2.31/(2.31+5.06)"
   ]
  },
  {
   "cell_type": "code",
   "execution_count": 24,
   "metadata": {},
   "outputs": [
    {
     "data": {
      "text/plain": [
       "0.3152454780361757"
      ]
     },
     "execution_count": 24,
     "metadata": {},
     "output_type": "execute_result"
    }
   ],
   "source": [
    "2.44/(2.44+5.3)"
   ]
  },
  {
   "cell_type": "code",
   "execution_count": 30,
   "metadata": {},
   "outputs": [
    {
     "data": {
      "text/plain": [
       "0.6893203883495145"
      ]
     },
     "execution_count": 30,
     "metadata": {},
     "output_type": "execute_result"
    }
   ],
   "source": [
    "4.97/(2.24+4.97)"
   ]
  },
  {
   "cell_type": "code",
   "execution_count": 27,
   "metadata": {},
   "outputs": [
    {
     "data": {
      "text/plain": [
       "0.0014999999999999998"
      ]
     },
     "execution_count": 27,
     "metadata": {},
     "output_type": "execute_result"
    }
   ],
   "source": [
    "(0.0012**2+0.0009**2)**0.5"
   ]
  },
  {
   "cell_type": "code",
   "execution_count": 31,
   "metadata": {},
   "outputs": [
    {
     "data": {
      "text/plain": [
       "0.02196909901668972"
      ]
     },
     "execution_count": 31,
     "metadata": {},
     "output_type": "execute_result"
    }
   ],
   "source": [
    "0.6893*((0.12/4.97)**2+(0.15/7.21)**2)**0.5"
   ]
  },
  {
   "cell_type": "code",
   "execution_count": 32,
   "metadata": {},
   "outputs": [
    {
     "data": {
      "text/plain": [
       "9.321e-06"
      ]
     },
     "execution_count": 32,
     "metadata": {},
     "output_type": "execute_result"
    }
   ],
   "source": [
    "0.3107*3*10**(-5)"
   ]
  },
  {
   "cell_type": "code",
   "execution_count": 46,
   "metadata": {},
   "outputs": [
    {
     "data": {
      "text/plain": [
       "2.0679e-05"
      ]
     },
     "execution_count": 46,
     "metadata": {},
     "output_type": "execute_result"
    }
   ],
   "source": [
    "0.6893*3*10**(-5)"
   ]
  },
  {
   "cell_type": "code",
   "execution_count": 47,
   "metadata": {},
   "outputs": [
    {
     "data": {
      "text/plain": [
       "9.321e-06"
      ]
     },
     "execution_count": 47,
     "metadata": {},
     "output_type": "execute_result"
    }
   ],
   "source": [
    "0.3107*3*10**(-5)"
   ]
  },
  {
   "cell_type": "code",
   "execution_count": 50,
   "metadata": {},
   "outputs": [
    {
     "data": {
      "text/plain": [
       "3.0"
      ]
     },
     "execution_count": 50,
     "metadata": {},
     "output_type": "execute_result"
    }
   ],
   "source": [
    "0.93+2.07"
   ]
  },
  {
   "cell_type": "code",
   "execution_count": 42,
   "metadata": {},
   "outputs": [
    {
     "data": {
      "text/plain": [
       "4.6"
      ]
     },
     "execution_count": 42,
     "metadata": {},
     "output_type": "execute_result"
    }
   ],
   "source": [
    "1.43+3.17"
   ]
  },
  {
   "cell_type": "code",
   "execution_count": 92,
   "metadata": {},
   "outputs": [
    {
     "data": {
      "text/plain": [
       "0.0011176139999999998"
      ]
     },
     "execution_count": 92,
     "metadata": {},
     "output_type": "execute_result"
    }
   ],
   "source": [
    "0.00377*0.2302+0.00028*0.892"
   ]
  },
  {
   "cell_type": "code",
   "execution_count": 93,
   "metadata": {},
   "outputs": [
    {
     "data": {
      "text/plain": [
       "2.0660000000000003"
      ]
     },
     "execution_count": 93,
     "metadata": {},
     "output_type": "execute_result"
    }
   ],
   "source": [
    "0.278+0.878+0.910"
   ]
  },
  {
   "cell_type": "code",
   "execution_count": 100,
   "metadata": {},
   "outputs": [
    {
     "data": {
      "text/plain": [
       "0.00395071"
      ]
     },
     "execution_count": 100,
     "metadata": {},
     "output_type": "execute_result"
    }
   ],
   "source": [
    "(2.05e-3)*0.2302+(3.9e-3)*0.892"
   ]
  },
  {
   "cell_type": "code",
   "execution_count": 97,
   "metadata": {},
   "outputs": [
    {
     "data": {
      "text/plain": [
       "0.12"
      ]
     },
     "execution_count": 97,
     "metadata": {},
     "output_type": "execute_result"
    }
   ],
   "source": [
    "6/50"
   ]
  },
  {
   "cell_type": "code",
   "execution_count": 98,
   "metadata": {},
   "outputs": [
    {
     "data": {
      "text/plain": [
       "0.24"
      ]
     },
     "execution_count": 98,
     "metadata": {},
     "output_type": "execute_result"
    }
   ],
   "source": [
    "12/50"
   ]
  },
  {
   "cell_type": "code",
   "execution_count": 106,
   "metadata": {},
   "outputs": [
    {
     "data": {
      "text/plain": [
       "39.0"
      ]
     },
     "execution_count": 106,
     "metadata": {},
     "output_type": "execute_result"
    }
   ],
   "source": [
    "468/12"
   ]
  },
  {
   "cell_type": "code",
   "execution_count": 109,
   "metadata": {},
   "outputs": [
    {
     "data": {
      "text/plain": [
       "0.0024"
      ]
     },
     "execution_count": 109,
     "metadata": {},
     "output_type": "execute_result"
    }
   ],
   "source": [
    "6/(50**2)"
   ]
  },
  {
   "cell_type": "code",
   "execution_count": 110,
   "metadata": {},
   "outputs": [
    {
     "data": {
      "text/plain": [
       "0.12"
      ]
     },
     "execution_count": 110,
     "metadata": {},
     "output_type": "execute_result"
    }
   ],
   "source": [
    "6/50"
   ]
  },
  {
   "cell_type": "code",
   "execution_count": 12,
   "metadata": {},
   "outputs": [
    {
     "data": {
      "text/plain": [
       "7.270379999999999e-05"
      ]
     },
     "execution_count": 12,
     "metadata": {},
     "output_type": "execute_result"
    }
   ],
   "source": [
    "2.34e-4*31.07e-2"
   ]
  },
  {
   "cell_type": "code",
   "execution_count": 13,
   "metadata": {},
   "outputs": [
    {
     "data": {
      "text/plain": [
       "1.923774616866539e-05"
      ]
     },
     "execution_count": 13,
     "metadata": {},
     "output_type": "execute_result"
    }
   ],
   "source": [
    "7.270379999999999e-05*((0.61/2.34)**2+(1.41/31.07)**2)**0.5"
   ]
  },
  {
   "cell_type": "markdown",
   "metadata": {},
   "source": [
    "PS computation for guessstimate via last LHCb Bp2KDsDs measurement"
   ]
  },
  {
   "cell_type": "code",
   "execution_count": 42,
   "metadata": {},
   "outputs": [
    {
     "name": "stdout",
     "output_type": "stream",
     "text": [
      "(1.0763082754483381e-07, 5.719786506886976e-09)\n",
      "(3.509620214471826e-08, 1.8731280846740542e-09)\n",
      "0.3260794601815997\n"
     ]
    }
   ],
   "source": [
    "#mass in GeV\n",
    "m_Kp=0.493677\n",
    "m_Kstp=0.89167\n",
    "m_Ds=1.96835#using D inplace of Ds : ratio = 0.3 -> 0.4\n",
    "m_Bp=5.27934\n",
    "m_B0=5.27966\n",
    "m_K0=0.497611\n",
    "m_Kst0=0.89555\n",
    "#computation of BF B02Kst0DsTauNu\n",
    "sq_m12_range=np.linspace(sq_m12_min(m_K,m_K0),sq_m12_max(m_Bp,m_D0),1000)\n",
    "\n",
    "def dPS2D(sqm12,m23,m1,m2,M,m3):#phase space element as function of m12\n",
    "    return ((np.pi**2)/(2*np.pi)**9)*(1/(4*M**2))#(sq_m23_max(m12,m1,m2,M,m3)-sq_m23_min(m12,m1,m2,M,m3))\n",
    "\n",
    "def lim_m23(sqm12,m1,m2,M,m3):\n",
    "    return [sq_m23_min(sqm12,m1,m2,M,m3), sq_m23_max(sqm12,m1,m2,M,m3)]\n",
    "def lim_m12(m1,m2,M,m3):\n",
    "    return [sq_m12_min(m1,m2), sq_m12_max(M,m3)]\n",
    "\n",
    "\n",
    "# PS_B02KK0D0 = nquad(dPS2D,[lim_m23, lim_m12], args=(m_K,m_K0,m_Bp,m_D0))\n",
    "# print(PS_B02KK0D0)\n",
    "\n",
    "# # PS 2-body (same result with two methods)\n",
    "# PS_B02KD0 = np.sqrt(1-(2*((m_D0**2+m_K**2)/m_Bp**2))+(((m_D0**2-m_K**2)**2)/(m_Bp**4)))/(8*np.pi)\n",
    "# PS_B02KD0 = np.sqrt((m_K**2-(m_Bp+m_D0)**2)*(m_K**2-(m_Bp-m_D0)**2))/(8*np.pi*m_Bp**2)\n",
    "# print(PS_B02KD0)\n",
    "\n",
    "PS_Bp2KpDsDs = nquad(dPS2D,[lim_m23, lim_m12], args=(m_Kp,m_Ds,m_Bp,m_Ds))\n",
    "print(PS_Bp2KpDsDs)\n",
    "\n",
    "PS_Bp2KstpDsDs = nquad(dPS2D,[lim_m23, lim_m12], args=(m_Kstp,m_Ds,m_Bp,m_Ds))\n",
    "print(PS_Bp2KstpDsDs)\n",
    "\n",
    "print(PS_Bp2KstpDsDs[0]/PS_Bp2KpDsDs[0])\n",
    "\n",
    "# PS_B02K0DsDs = nquad(dPS2D,[lim_m23, lim_m12], args=(m_K0,m_Ds,m_B0,m_Ds))\n",
    "# print(PS_B02K0DsDs)\n",
    "\n",
    "# PS_B02Kst0DsDs = nquad(dPS2D,[lim_m23, lim_m12], args=(m_Kst0,m_Ds,m_B0,m_Ds))\n",
    "# print(PS_B02Kst0DsDs)\n",
    "\n",
    "# print(PS_B02Kst0DsDs[0]/PS_B02K0DsDs[0])\n",
    "\n"
   ]
  },
  {
   "cell_type": "code",
   "execution_count": 38,
   "metadata": {},
   "outputs": [
    {
     "data": {
      "text/plain": [
       "0.000351409978308026"
      ]
     },
     "execution_count": 38,
     "metadata": {},
     "output_type": "execute_result"
    }
   ],
   "source": [
    "(9e-3)*(1.8e-4)/(4.61e-3)"
   ]
  },
  {
   "cell_type": "code",
   "execution_count": 39,
   "metadata": {},
   "outputs": [
    {
     "data": {
      "text/plain": [
       "5.601525025171454e-05"
      ]
     },
     "execution_count": 39,
     "metadata": {},
     "output_type": "execute_result"
    }
   ],
   "source": [
    "0.000351409978308026*np.sqrt((0.9/9)**2+(0.22/1.8)**2+(0.1/4.61)**2)"
   ]
  },
  {
   "cell_type": "code",
   "execution_count": 40,
   "metadata": {},
   "outputs": [
    {
     "data": {
      "text/plain": [
       "6.716e-05"
      ]
     },
     "execution_count": 40,
     "metadata": {},
     "output_type": "execute_result"
    }
   ],
   "source": [
    "1.15e-4*1.46*0.4"
   ]
  },
  {
   "cell_type": "code",
   "execution_count": 41,
   "metadata": {},
   "outputs": [
    {
     "data": {
      "text/plain": [
       "4.149253731343283"
      ]
     },
     "execution_count": 41,
     "metadata": {},
     "output_type": "execute_result"
    }
   ],
   "source": [
    "2.78/0.67"
   ]
  },
  {
   "cell_type": "code",
   "execution_count": 2,
   "metadata": {},
   "outputs": [
    {
     "data": {
      "text/plain": [
       "0.39102429592034305"
      ]
     },
     "execution_count": 2,
     "metadata": {},
     "output_type": "execute_result"
    }
   ],
   "source": [
    "np.sqrt(0.07**2+0.06**2+0.38**2)"
   ]
  },
  {
   "cell_type": "code",
   "execution_count": 3,
   "metadata": {},
   "outputs": [
    {
     "data": {
      "text/plain": [
       "1.456043956043956"
      ]
     },
     "execution_count": 3,
     "metadata": {},
     "output_type": "execute_result"
    }
   ],
   "source": [
    "5.3/3.64"
   ]
  },
  {
   "cell_type": "code",
   "execution_count": 4,
   "metadata": {},
   "outputs": [
    {
     "data": {
      "text/plain": [
       "0.1252040479377326"
      ]
     },
     "execution_count": 4,
     "metadata": {},
     "output_type": "execute_result"
    }
   ],
   "source": [
    "(5.3/3.64)*np.sqrt((0.15/3.64)**2+(0.4/5.3)**2)"
   ]
  },
  {
   "cell_type": "code",
   "execution_count": 5,
   "metadata": {},
   "outputs": [
    {
     "data": {
      "text/plain": [
       "5.47354e-05"
      ]
     },
     "execution_count": 5,
     "metadata": {},
     "output_type": "execute_result"
    }
   ],
   "source": [
    "1.15e-4*1.46*0.326"
   ]
  },
  {
   "cell_type": "code",
   "execution_count": 6,
   "metadata": {},
   "outputs": [
    {
     "data": {
      "text/plain": [
       "1.9191590096800213e-05"
      ]
     },
     "execution_count": 6,
     "metadata": {},
     "output_type": "execute_result"
    }
   ],
   "source": [
    "(1.15e-4*1.46*0.326)*np.sqrt((0.39/1.15)**2+(0.13/1.46)**2)"
   ]
  },
  {
   "cell_type": "code",
   "execution_count": 7,
   "metadata": {},
   "outputs": [
    {
     "data": {
      "text/plain": [
       "0.3510054844606947"
      ]
     },
     "execution_count": 7,
     "metadata": {},
     "output_type": "execute_result"
    }
   ],
   "source": [
    "1.92/5.47"
   ]
  },
  {
   "cell_type": "code",
   "execution_count": 9,
   "metadata": {},
   "outputs": [
    {
     "data": {
      "text/plain": [
       "0.00040652045454545456"
      ]
     },
     "execution_count": 9,
     "metadata": {},
     "output_type": "execute_result"
    }
   ],
   "source": [
    "5.47e-5*(3.27e-2/4.4e-3)"
   ]
  },
  {
   "cell_type": "code",
   "execution_count": 11,
   "metadata": {},
   "outputs": [
    {
     "data": {
      "text/plain": [
       "0.000153692519607204"
      ]
     },
     "execution_count": 11,
     "metadata": {},
     "output_type": "execute_result"
    }
   ],
   "source": [
    "0.00040652045454545456*np.sqrt((1.92/5.47)**2+(0.27/3.27)**2+(0.5/4.4)**2)"
   ]
  },
  {
   "cell_type": "code",
   "execution_count": 12,
   "metadata": {},
   "outputs": [
    {
     "data": {
      "text/plain": [
       "0.00017300611620795108"
      ]
     },
     "execution_count": 12,
     "metadata": {},
     "output_type": "execute_result"
    }
   ],
   "source": [
    "4.07e-4*(1.39e-2/3.27e-2)"
   ]
  },
  {
   "cell_type": "code",
   "execution_count": 14,
   "metadata": {},
   "outputs": [
    {
     "data": {
      "text/plain": [
       "7.026383578208093e-05"
      ]
     },
     "execution_count": 14,
     "metadata": {},
     "output_type": "execute_result"
    }
   ],
   "source": [
    "0.00017300611620795108*np.sqrt((1.54/4.07)**2+(0.17/1.39)**2+(0.27/3.27)**2)"
   ]
  },
  {
   "cell_type": "code",
   "execution_count": 15,
   "metadata": {},
   "outputs": [
    {
     "data": {
      "text/plain": [
       "0.00017922935779816513"
      ]
     },
     "execution_count": 15,
     "metadata": {},
     "output_type": "execute_result"
    }
   ],
   "source": [
    "4.07e-4*(1.44e-2/3.27e-2)"
   ]
  },
  {
   "cell_type": "code",
   "execution_count": 16,
   "metadata": {},
   "outputs": [
    {
     "data": {
      "text/plain": [
       "7.159509961980334e-05"
      ]
     },
     "execution_count": 16,
     "metadata": {},
     "output_type": "execute_result"
    }
   ],
   "source": [
    "0.00017300611620795108*np.sqrt((1.54/4.07)**2+(0.21/1.44)**2+(0.27/3.27)**2)"
   ]
  },
  {
   "cell_type": "code",
   "execution_count": 2,
   "metadata": {},
   "outputs": [
    {
     "data": {
      "text/plain": [
       "176.3763954455082"
      ]
     },
     "execution_count": 2,
     "metadata": {},
     "output_type": "execute_result"
    }
   ],
   "source": [
    "6e12*0.1512*2*0.407*1.3e-7*(0.0931**2)*0.69*0.3840*0.8"
   ]
  },
  {
   "cell_type": "code",
   "execution_count": 3,
   "metadata": {},
   "outputs": [
    {
     "data": {
      "text/plain": [
       "17.959024191995645"
      ]
     },
     "execution_count": 3,
     "metadata": {},
     "output_type": "execute_result"
    }
   ],
   "source": [
    "176.3763954455082*np.sqrt((0.0005/0.1512)**2+(0.007/0.407)**2+(0.1)**2+2*(0.0005/0.0931)**2+(0.0007/0.3840)**2)"
   ]
  },
  {
   "cell_type": "code",
   "execution_count": null,
   "metadata": {},
   "outputs": [],
   "source": []
  }
 ],
 "metadata": {
  "kernelspec": {
   "display_name": "FCC_ana_310",
   "language": "python",
   "name": "fcc_ana_310"
  },
  "language_info": {
   "codemirror_mode": {
    "name": "ipython",
    "version": 3
   },
   "file_extension": ".py",
   "mimetype": "text/x-python",
   "name": "python",
   "nbconvert_exporter": "python",
   "pygments_lexer": "ipython3",
   "version": "3.10.8"
  },
  "orig_nbformat": 4
 },
 "nbformat": 4,
 "nbformat_minor": 2
}
